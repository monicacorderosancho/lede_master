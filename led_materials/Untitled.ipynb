{
 "cells": [
  {
   "cell_type": "code",
   "execution_count": 4,
   "id": "c48213aa",
   "metadata": {},
   "outputs": [
    {
     "name": "stderr",
     "output_type": "stream",
     "text": [
      "/Users/monicacordero/.pyenv/versions/3.8.10/lib/python3.8/site-packages/pandas-1.4.0.dev0+143.g5675cd8ab2-py3.8-macosx-11.3-arm64.egg/pandas/compat/__init__.py:124: UserWarning: Could not import the lzma module. Your installed Python is incomplete. Attempting to use lzma compression will result in a RuntimeError.\n",
      "  warnings.warn(msg)\n"
     ]
    }
   ],
   "source": [
    "import pandas as pd\n"
   ]
  },
  {
   "cell_type": "code",
   "execution_count": 5,
   "id": "bce33f9b",
   "metadata": {},
   "outputs": [
    {
     "name": "stdout",
     "output_type": "stream",
     "text": [
      "Requirement already satisfied: openpyxl in /Users/monicacordero/.pyenv/versions/3.8.10/lib/python3.8/site-packages (3.0.7)\r\n",
      "Requirement already satisfied: et-xmlfile in /Users/monicacordero/.pyenv/versions/3.8.10/lib/python3.8/site-packages (from openpyxl) (1.1.0)\r\n"
     ]
    }
   ],
   "source": [
    "!pip install openpyxl"
   ]
  },
  {
   "cell_type": "code",
   "execution_count": 6,
   "id": "a90f5679",
   "metadata": {},
   "outputs": [],
   "source": [
    "\n",
    "df = pd.read_excel(\"JCOPE_Lobbying Search_2020.xlsx\")"
   ]
  },
  {
   "cell_type": "code",
   "execution_count": 9,
   "id": "b081df11",
   "metadata": {},
   "outputs": [],
   "source": [
    "df1 = pd.read_excel(\"JCOPE _obbying Search_2019.xlsx\")"
   ]
  },
  {
   "cell_type": "code",
   "execution_count": 11,
   "id": "1fb8f7ac",
   "metadata": {},
   "outputs": [],
   "source": [
    "df2 = pd.read_excel(\"JCOPE_Lobbying_Search _2021.xlsx\")"
   ]
  },
  {
   "cell_type": "code",
   "execution_count": 25,
   "id": "9f353421",
   "metadata": {},
   "outputs": [],
   "source": [
    "df3 = pd.merge(df,df1,on = \"YEAR\") "
   ]
  },
  {
   "cell_type": "code",
   "execution_count": 26,
   "id": "807eb150",
   "metadata": {},
   "outputs": [
    {
     "data": {
      "text/plain": [
       "(625, 13)"
      ]
     },
     "execution_count": 26,
     "metadata": {},
     "output_type": "execute_result"
    }
   ],
   "source": [
    "df3.shape"
   ]
  },
  {
   "cell_type": "code",
   "execution_count": 27,
   "id": "1ff0b58d",
   "metadata": {},
   "outputs": [
    {
     "data": {
      "text/html": [
       "<div>\n",
       "<style scoped>\n",
       "    .dataframe tbody tr th:only-of-type {\n",
       "        vertical-align: middle;\n",
       "    }\n",
       "\n",
       "    .dataframe tbody tr th {\n",
       "        vertical-align: top;\n",
       "    }\n",
       "\n",
       "    .dataframe thead th {\n",
       "        text-align: right;\n",
       "    }\n",
       "</style>\n",
       "<table border=\"1\" class=\"dataframe\">\n",
       "  <thead>\n",
       "    <tr style=\"text-align: right;\">\n",
       "      <th></th>\n",
       "      <th>YEAR</th>\n",
       "      <th>PRINCIPAL LOBBYIST_x</th>\n",
       "      <th>INDIVIDUAL LOBBYIST(S)_x</th>\n",
       "      <th>CO - LOBBYIST(S)/SUB - LOBBYIST(S)_x</th>\n",
       "      <th>CONTRACTUAL CLIENT_x</th>\n",
       "      <th>BENEFICIAL CLIENT_x</th>\n",
       "      <th>ASSOCIATED FILINGS_x</th>\n",
       "      <th>PRINCIPAL LOBBYIST_y</th>\n",
       "      <th>INDIVIDUAL LOBBYIST(S)_y</th>\n",
       "      <th>CO - LOBBYIST(S)/SUB - LOBBYIST(S)_y</th>\n",
       "      <th>CONTRACTUAL CLIENT_y</th>\n",
       "      <th>BENEFICIAL CLIENT_y</th>\n",
       "      <th>ASSOCIATED FILINGS_y</th>\n",
       "    </tr>\n",
       "  </thead>\n",
       "  <tbody>\n",
       "    <tr>\n",
       "      <th>620</th>\n",
       "      <td>2019 - 2020</td>\n",
       "      <td>ADVANCE GROUP, INC.39 BROADWAYSUITE 1740NEW YO...</td>\n",
       "      <td>SEBASTIAN LEVENSON SCOTT LEVENSON</td>\n",
       "      <td>NaN</td>\n",
       "      <td>COMMUNITY VOICES HEARD, INC.115 EAST 106TH ST....</td>\n",
       "      <td>COMMUNITY VOICES HEARD, INC.115 EAST 106TH ST....</td>\n",
       "      <td>VIEW</td>\n",
       "      <td>ADAPT PHARMA, INC. 28 LIBERTY SHIP WAYSUITE 28...</td>\n",
       "      <td>ANDREA MAZZINI MICHAEL VITALI STEPHANIE GALICA</td>\n",
       "      <td>NaN</td>\n",
       "      <td>ADAPT PHARMA, INC. 28 LIBERTY SHIP WAYSUITE 28...</td>\n",
       "      <td>ADAPT PHARMA, INC. 28 LIBERTY SHIP WAYSUITE 28...</td>\n",
       "      <td>VIEW</td>\n",
       "    </tr>\n",
       "    <tr>\n",
       "      <th>621</th>\n",
       "      <td>2019 - 2020</td>\n",
       "      <td>ADVANCE GROUP, INC.39 BROADWAYSUITE 1740NEW YO...</td>\n",
       "      <td>SEBASTIAN LEVENSON SCOTT LEVENSON</td>\n",
       "      <td>NaN</td>\n",
       "      <td>COMMUNITY VOICES HEARD, INC.115 EAST 106TH ST....</td>\n",
       "      <td>COMMUNITY VOICES HEARD, INC.115 EAST 106TH ST....</td>\n",
       "      <td>VIEW</td>\n",
       "      <td>ADIRONDACK MOUNTAIN CLUB, INC.814 GOGGINS ROAD...</td>\n",
       "      <td>CATHERINE PEDLER WES LAMPMAN NEIL WOODWORTH MI...</td>\n",
       "      <td>NaN</td>\n",
       "      <td>ADIRONDACK MOUNTAIN CLUB, INC.814 GOGGINS ROAD...</td>\n",
       "      <td>ADIRONDACK MOUNTAIN CLUB, INC.814 GOGGINS ROAD...</td>\n",
       "      <td>VIEW</td>\n",
       "    </tr>\n",
       "    <tr>\n",
       "      <th>622</th>\n",
       "      <td>2019 - 2020</td>\n",
       "      <td>ADVANCE GROUP, INC.39 BROADWAYSUITE 1740NEW YO...</td>\n",
       "      <td>SEBASTIAN LEVENSON SCOTT LEVENSON</td>\n",
       "      <td>NaN</td>\n",
       "      <td>COMMUNITY VOICES HEARD, INC.115 EAST 106TH ST....</td>\n",
       "      <td>COMMUNITY VOICES HEARD, INC.115 EAST 106TH ST....</td>\n",
       "      <td>VIEW</td>\n",
       "      <td>ADVANCE GROUP, INC.39 BROADWAYSUITE 1740NEW YO...</td>\n",
       "      <td>SEBASTIAN LEVENSON SCOTT LEVENSON</td>\n",
       "      <td>NaN</td>\n",
       "      <td>BROOKLYN CRAFT WORKS, LLC200 6TH STBROOKLYN, N...</td>\n",
       "      <td>BROOKLYN CRAFT WORKS, LLC200 6TH STBROOKLYN, N...</td>\n",
       "      <td>VIEW</td>\n",
       "    </tr>\n",
       "    <tr>\n",
       "      <th>623</th>\n",
       "      <td>2019 - 2020</td>\n",
       "      <td>ADVANCE GROUP, INC.39 BROADWAYSUITE 1740NEW YO...</td>\n",
       "      <td>SEBASTIAN LEVENSON SCOTT LEVENSON</td>\n",
       "      <td>NaN</td>\n",
       "      <td>COMMUNITY VOICES HEARD, INC.115 EAST 106TH ST....</td>\n",
       "      <td>COMMUNITY VOICES HEARD, INC.115 EAST 106TH ST....</td>\n",
       "      <td>VIEW</td>\n",
       "      <td>ADVANCE GROUP, INC.39 BROADWAYSUITE 1740NEW YO...</td>\n",
       "      <td>SEBASTIAN LEVENSON SCOTT LEVENSON</td>\n",
       "      <td>NaN</td>\n",
       "      <td>CORE SCAFFOLD SYSTEMS INC.(FILED AS CORE SCAFF...</td>\n",
       "      <td>CORE SCAFFOLD SYSTEMS INC.(FILED AS CORE SCAFF...</td>\n",
       "      <td>VIEW</td>\n",
       "    </tr>\n",
       "    <tr>\n",
       "      <th>624</th>\n",
       "      <td>2019 - 2020</td>\n",
       "      <td>ADVANCE GROUP, INC.39 BROADWAYSUITE 1740NEW YO...</td>\n",
       "      <td>SEBASTIAN LEVENSON SCOTT LEVENSON</td>\n",
       "      <td>NaN</td>\n",
       "      <td>COMMUNITY VOICES HEARD, INC.115 EAST 106TH ST....</td>\n",
       "      <td>COMMUNITY VOICES HEARD, INC.115 EAST 106TH ST....</td>\n",
       "      <td>VIEW</td>\n",
       "      <td>ADVANCE GROUP, INC.39 BROADWAYSUITE 1740NEW YO...</td>\n",
       "      <td>SEBASTIAN LEVENSON SCOTT LEVENSON</td>\n",
       "      <td>NaN</td>\n",
       "      <td>COMMUNITY VOICES HEARD, INC.115 EAST 106TH ST....</td>\n",
       "      <td>COMMUNITY VOICES HEARD, INC.115 EAST 106TH ST....</td>\n",
       "      <td>VIEW</td>\n",
       "    </tr>\n",
       "  </tbody>\n",
       "</table>\n",
       "</div>"
      ],
      "text/plain": [
       "            YEAR                               PRINCIPAL LOBBYIST_x  \\\n",
       "620  2019 - 2020  ADVANCE GROUP, INC.39 BROADWAYSUITE 1740NEW YO...   \n",
       "621  2019 - 2020  ADVANCE GROUP, INC.39 BROADWAYSUITE 1740NEW YO...   \n",
       "622  2019 - 2020  ADVANCE GROUP, INC.39 BROADWAYSUITE 1740NEW YO...   \n",
       "623  2019 - 2020  ADVANCE GROUP, INC.39 BROADWAYSUITE 1740NEW YO...   \n",
       "624  2019 - 2020  ADVANCE GROUP, INC.39 BROADWAYSUITE 1740NEW YO...   \n",
       "\n",
       "              INDIVIDUAL LOBBYIST(S)_x  CO - LOBBYIST(S)/SUB - LOBBYIST(S)_x  \\\n",
       "620  SEBASTIAN LEVENSON SCOTT LEVENSON                                   NaN   \n",
       "621  SEBASTIAN LEVENSON SCOTT LEVENSON                                   NaN   \n",
       "622  SEBASTIAN LEVENSON SCOTT LEVENSON                                   NaN   \n",
       "623  SEBASTIAN LEVENSON SCOTT LEVENSON                                   NaN   \n",
       "624  SEBASTIAN LEVENSON SCOTT LEVENSON                                   NaN   \n",
       "\n",
       "                                  CONTRACTUAL CLIENT_x  \\\n",
       "620  COMMUNITY VOICES HEARD, INC.115 EAST 106TH ST....   \n",
       "621  COMMUNITY VOICES HEARD, INC.115 EAST 106TH ST....   \n",
       "622  COMMUNITY VOICES HEARD, INC.115 EAST 106TH ST....   \n",
       "623  COMMUNITY VOICES HEARD, INC.115 EAST 106TH ST....   \n",
       "624  COMMUNITY VOICES HEARD, INC.115 EAST 106TH ST....   \n",
       "\n",
       "                                   BENEFICIAL CLIENT_x ASSOCIATED FILINGS_x  \\\n",
       "620  COMMUNITY VOICES HEARD, INC.115 EAST 106TH ST....                 VIEW   \n",
       "621  COMMUNITY VOICES HEARD, INC.115 EAST 106TH ST....                 VIEW   \n",
       "622  COMMUNITY VOICES HEARD, INC.115 EAST 106TH ST....                 VIEW   \n",
       "623  COMMUNITY VOICES HEARD, INC.115 EAST 106TH ST....                 VIEW   \n",
       "624  COMMUNITY VOICES HEARD, INC.115 EAST 106TH ST....                 VIEW   \n",
       "\n",
       "                                  PRINCIPAL LOBBYIST_y  \\\n",
       "620  ADAPT PHARMA, INC. 28 LIBERTY SHIP WAYSUITE 28...   \n",
       "621  ADIRONDACK MOUNTAIN CLUB, INC.814 GOGGINS ROAD...   \n",
       "622  ADVANCE GROUP, INC.39 BROADWAYSUITE 1740NEW YO...   \n",
       "623  ADVANCE GROUP, INC.39 BROADWAYSUITE 1740NEW YO...   \n",
       "624  ADVANCE GROUP, INC.39 BROADWAYSUITE 1740NEW YO...   \n",
       "\n",
       "                              INDIVIDUAL LOBBYIST(S)_y  \\\n",
       "620     ANDREA MAZZINI MICHAEL VITALI STEPHANIE GALICA   \n",
       "621  CATHERINE PEDLER WES LAMPMAN NEIL WOODWORTH MI...   \n",
       "622                  SEBASTIAN LEVENSON SCOTT LEVENSON   \n",
       "623                  SEBASTIAN LEVENSON SCOTT LEVENSON   \n",
       "624                  SEBASTIAN LEVENSON SCOTT LEVENSON   \n",
       "\n",
       "     CO - LOBBYIST(S)/SUB - LOBBYIST(S)_y  \\\n",
       "620                                   NaN   \n",
       "621                                   NaN   \n",
       "622                                   NaN   \n",
       "623                                   NaN   \n",
       "624                                   NaN   \n",
       "\n",
       "                                  CONTRACTUAL CLIENT_y  \\\n",
       "620  ADAPT PHARMA, INC. 28 LIBERTY SHIP WAYSUITE 28...   \n",
       "621  ADIRONDACK MOUNTAIN CLUB, INC.814 GOGGINS ROAD...   \n",
       "622  BROOKLYN CRAFT WORKS, LLC200 6TH STBROOKLYN, N...   \n",
       "623  CORE SCAFFOLD SYSTEMS INC.(FILED AS CORE SCAFF...   \n",
       "624  COMMUNITY VOICES HEARD, INC.115 EAST 106TH ST....   \n",
       "\n",
       "                                   BENEFICIAL CLIENT_y ASSOCIATED FILINGS_y  \n",
       "620  ADAPT PHARMA, INC. 28 LIBERTY SHIP WAYSUITE 28...                 VIEW  \n",
       "621  ADIRONDACK MOUNTAIN CLUB, INC.814 GOGGINS ROAD...                 VIEW  \n",
       "622  BROOKLYN CRAFT WORKS, LLC200 6TH STBROOKLYN, N...                 VIEW  \n",
       "623  CORE SCAFFOLD SYSTEMS INC.(FILED AS CORE SCAFF...                 VIEW  \n",
       "624  COMMUNITY VOICES HEARD, INC.115 EAST 106TH ST....                 VIEW  "
      ]
     },
     "execution_count": 27,
     "metadata": {},
     "output_type": "execute_result"
    }
   ],
   "source": [
    "df3.tail()"
   ]
  },
  {
   "cell_type": "code",
   "execution_count": 37,
   "id": "5c60f603",
   "metadata": {},
   "outputs": [],
   "source": [
    "### axis=0 = vertical /  horizontal = 1\n",
    "df4 = pd.concat([df,df1,df2],axis=0)"
   ]
  },
  {
   "cell_type": "code",
   "execution_count": 38,
   "id": "6fd8fbd8",
   "metadata": {},
   "outputs": [
    {
     "data": {
      "text/plain": [
       "(75, 7)"
      ]
     },
     "execution_count": 38,
     "metadata": {},
     "output_type": "execute_result"
    }
   ],
   "source": [
    "df4.shape"
   ]
  },
  {
   "cell_type": "code",
   "execution_count": null,
   "id": "0491082a",
   "metadata": {},
   "outputs": [],
   "source": []
  }
 ],
 "metadata": {
  "kernelspec": {
   "display_name": "Python 3 (ipykernel)",
   "language": "python",
   "name": "python3"
  },
  "language_info": {
   "codemirror_mode": {
    "name": "ipython",
    "version": 3
   },
   "file_extension": ".py",
   "mimetype": "text/x-python",
   "name": "python",
   "nbconvert_exporter": "python",
   "pygments_lexer": "ipython3",
   "version": "3.8.10"
  }
 },
 "nbformat": 4,
 "nbformat_minor": 5
}
