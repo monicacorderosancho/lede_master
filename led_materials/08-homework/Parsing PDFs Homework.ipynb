{
 "cells": [
  {
   "cell_type": "markdown",
   "metadata": {},
   "source": [
    "# Parsing PDFs Homework\n",
    "\n",
    "With the power of pdfminer, pytesseract, Camelot, and Tika, let's analyze some documents!\n",
    "\n",
    "> If at any point you think, **\"I'm close enough, I'd just edit the rest of it in Excel\"**: that's fine! Just make a note of it.\n",
    "\n",
    "## A trick to use again and again\n",
    "\n",
    "### Approach 1\n",
    "\n",
    "Before we get started: when you want to take the first row of your data and set it as the header, use this trick."
   ]
  },
  {
   "cell_type": "code",
   "execution_count": 1,
   "metadata": {},
   "outputs": [
    {
     "name": "stdout",
     "output_type": "stream",
     "text": [
      "Requirement already satisfied: pdfminer.six in /Users/monicacordero/.pyenv/versions/3.8.10/lib/python3.8/site-packages (20201018)\r\n",
      "Requirement already satisfied: cryptography in /Users/monicacordero/.pyenv/versions/3.8.10/lib/python3.8/site-packages (from pdfminer.six) (3.4.7)\r\n",
      "Requirement already satisfied: chardet in /Users/monicacordero/.pyenv/versions/3.8.10/lib/python3.8/site-packages (from pdfminer.six) (4.0.0)\r\n",
      "Requirement already satisfied: sortedcontainers in /Users/monicacordero/.pyenv/versions/3.8.10/lib/python3.8/site-packages (from pdfminer.six) (2.4.0)\r\n",
      "Requirement already satisfied: cffi>=1.12 in /Users/monicacordero/.pyenv/versions/3.8.10/lib/python3.8/site-packages (from cryptography->pdfminer.six) (1.14.5)\r\n",
      "Requirement already satisfied: pycparser in /Users/monicacordero/.pyenv/versions/3.8.10/lib/python3.8/site-packages (from cffi>=1.12->cryptography->pdfminer.six) (2.20)\r\n"
     ]
    }
   ],
   "source": [
    "!pip install pdfminer.six\n"
   ]
  },
  {
   "cell_type": "code",
   "execution_count": 2,
   "metadata": {},
   "outputs": [],
   "source": [
    "# df = pd.DataFrame([\n",
    "#     [ 'fruit name', 'likes' ],\n",
    "#     [ 'apple', 15 ],\n",
    "#     [ 'carrot', 3 ],\n",
    "#     [ 'sweet potato', 45 ],\n",
    "#     [ 'peach', 12 ],\n",
    "# ])\n",
    "# df"
   ]
  },
  {
   "cell_type": "code",
   "execution_count": 3,
   "metadata": {},
   "outputs": [],
   "source": [
    "# # Set the first column as the columns\n",
    "# df.columns = df.loc[0]\n",
    "\n",
    "\n",
    "# # Drop the first row\n",
    "# df = df.drop(0)\n",
    "\n",
    "# df"
   ]
  },
  {
   "cell_type": "markdown",
   "metadata": {},
   "source": [
    "🚀 Done!\n",
    "\n",
    "### Approach 2\n",
    "\n",
    "Another alternative is to use `.rename` on your columns and just filter out the columns you aren't interested in. This can be useful if the column name shows up multiple times in your data for some reason or another."
   ]
  },
  {
   "cell_type": "code",
   "execution_count": 4,
   "metadata": {},
   "outputs": [],
   "source": [
    "# Starting with the same-ish data...\n",
    "# df = pd.DataFrame([\n",
    "#     [ 'fruit name', 'likes' ],\n",
    "#     [ 'apple', 15 ],\n",
    "#     [ 'carrot', 3 ],\n",
    "#     [ 'fruit name', 'likes' ],\n",
    "#     [ 'sweet potato', 45 ],\n",
    "#     [ 'peach', 12 ],\n",
    "# ])\n",
    "# df"
   ]
  },
  {
   "cell_type": "code",
   "execution_count": 5,
   "metadata": {},
   "outputs": [],
   "source": [
    "# df = df.rename(columns={\n",
    "#     0: 'fruit name',\n",
    "#     1: 'likes'\n",
    "# })\n",
    "# df = df[df['fruit name'] != 'fruit name']\n",
    "# df"
   ]
  },
  {
   "cell_type": "markdown",
   "metadata": {},
   "source": [
    "🚀 Done!\n",
    "\n",
    "### Useful tips about coordinates\n",
    "\n",
    "If you want to grab only a section of the page [Kull](https://jsoma.github.io/kull/#/) might be helpful in finding the coordinates.\n",
    "\n",
    "> **Alternatively** run `%matplotlib notebook` in a cell. Afterwards, every time you use something like `camelot.plot(tables[0]).show()` it will get you nice zoomable, hoverable versions that include `x` and `y` coordinates as you move your mouse.\n",
    "\n",
    "Coordinates are given as `\"left_x,top_y,right_x,bottom_y\"` with `(0,0)` being in the bottom left-hand corner.\n",
    "\n",
    "Note that all coordinates are strings, for some reason. It won't be `[1, 2, 3, 4]` it will be `['1,2,3,4']`\n",
    "\n",
    "# The homework\n",
    "\n",
    "This is **mostly Camelot work**, because I don't really have any good image-based PDFs to stretch your wings on tesseract. If you know of any, let me know and I can put together another couple exercises.\n",
    "\n",
    "## Prison Inmates\n",
    "\n",
    "Working from [InmateList.pdf](InmateList.pdf), save a CSV file that includes every inmate.\n",
    "\n",
    "* Make sure your rows are *all data*, and you don't have any people named \"Inmate Name.\"\n"
   ]
  },
  {
   "cell_type": "code",
   "execution_count": 6,
   "metadata": {},
   "outputs": [
    {
     "name": "stdout",
     "output_type": "stream",
     "text": [
      "Requirement already satisfied: ghostscript in /Users/monicacordero/.pyenv/versions/3.8.10/lib/python3.8/site-packages (0.7)\r\n",
      "Requirement already satisfied: setuptools>=38.6.0 in /Users/monicacordero/.pyenv/versions/3.8.10/lib/python3.8/site-packages (from ghostscript) (56.0.0)\r\n"
     ]
    }
   ],
   "source": [
    "!pip install ghostscript "
   ]
  },
  {
   "cell_type": "code",
   "execution_count": 7,
   "metadata": {},
   "outputs": [
    {
     "name": "stderr",
     "output_type": "stream",
     "text": [
      "/Users/monicacordero/.pyenv/versions/3.8.10/lib/python3.8/site-packages/pandas-1.4.0.dev0+143.g5675cd8ab2-py3.8-macosx-11.3-arm64.egg/pandas/compat/__init__.py:124: UserWarning: Could not import the lzma module. Your installed Python is incomplete. Attempting to use lzma compression will result in a RuntimeError.\n",
      "  warnings.warn(msg)\n"
     ]
    }
   ],
   "source": [
    "import pandas as pd\n",
    "import camelot"
   ]
  },
  {
   "cell_type": "code",
   "execution_count": 9,
   "metadata": {},
   "outputs": [
    {
     "ename": "NameError",
     "evalue": "name 'extract_text' is not defined",
     "output_type": "error",
     "traceback": [
      "\u001b[0;31m---------------------------------------------------------------------------\u001b[0m",
      "\u001b[0;31mNameError\u001b[0m                                 Traceback (most recent call last)",
      "\u001b[0;32m/var/folders/4b/6hc01_cs6wv6ys6br0kfw4sc0000gn/T/ipykernel_25875/1607268674.py\u001b[0m in \u001b[0;36m<module>\u001b[0;34m\u001b[0m\n\u001b[0;32m----> 1\u001b[0;31m \u001b[0mtext\u001b[0m \u001b[0;34m=\u001b[0m \u001b[0mextract_text\u001b[0m\u001b[0;34m(\u001b[0m\u001b[0;34m'InmateList.pdf'\u001b[0m\u001b[0;34m)\u001b[0m\u001b[0;34m\u001b[0m\u001b[0;34m\u001b[0m\u001b[0m\n\u001b[0m\u001b[1;32m      2\u001b[0m \u001b[0mprint\u001b[0m\u001b[0;34m(\u001b[0m\u001b[0mtext\u001b[0m\u001b[0;34m)\u001b[0m\u001b[0;34m\u001b[0m\u001b[0;34m\u001b[0m\u001b[0m\n",
      "\u001b[0;31mNameError\u001b[0m: name 'extract_text' is not defined"
     ]
    }
   ],
   "source": [
    "text = extract_text('InmateList.pdf')\n",
    "print(text)"
   ]
  },
  {
   "cell_type": "code",
   "execution_count": 10,
   "metadata": {},
   "outputs": [
    {
     "ename": "NameError",
     "evalue": "name 'text' is not defined",
     "output_type": "error",
     "traceback": [
      "\u001b[0;31m---------------------------------------------------------------------------\u001b[0m",
      "\u001b[0;31mNameError\u001b[0m                                 Traceback (most recent call last)",
      "\u001b[0;32m/var/folders/4b/6hc01_cs6wv6ys6br0kfw4sc0000gn/T/ipykernel_25875/3122002480.py\u001b[0m in \u001b[0;36m<module>\u001b[0;34m\u001b[0m\n\u001b[0;32m----> 1\u001b[0;31m \u001b[0mtext\u001b[0m\u001b[0;34m[\u001b[0m\u001b[0;34m:\u001b[0m\u001b[0;36m700\u001b[0m\u001b[0;34m]\u001b[0m\u001b[0;34m\u001b[0m\u001b[0;34m\u001b[0m\u001b[0m\n\u001b[0m",
      "\u001b[0;31mNameError\u001b[0m: name 'text' is not defined"
     ]
    }
   ],
   "source": [
    "text[:700]"
   ]
  },
  {
   "cell_type": "code",
   "execution_count": null,
   "metadata": {},
   "outputs": [],
   "source": [
    "df = pd.DataFrame([\n",
    "    [ 'ICN',' '],\n",
    "    [ 'Inmate Name',' '],\n",
    "    [ 'Facility', ' '],\n",
    "    [ 'Booking Date', ' ']\n",
    "])\n",
    "df\n",
    "\n"
   ]
  },
  {
   "cell_type": "code",
   "execution_count": null,
   "metadata": {},
   "outputs": [],
   "source": [
    "print(df)"
   ]
  },
  {
   "cell_type": "code",
   "execution_count": null,
   "metadata": {},
   "outputs": [],
   "source": [
    "df = df.drop(0)\n",
    "\n",
    "df"
   ]
  },
  {
   "cell_type": "markdown",
   "metadata": {},
   "source": [
    "## WHO resolutions\n",
    "\n",
    "Using [A74_R13-en.pdf](A74_R13-en.pdf), what ten member countries are given the highest assessments?\n",
    "\n",
    "* You might need to have two separate queries, and combine the results: that last page is pretty awful!\n",
    "* Always rename your columns\n",
    "* Double-check that your sorting looks right......\n",
    "* You can still get the answer even without perfectly clean data"
   ]
  },
  {
   "cell_type": "code",
   "execution_count": null,
   "metadata": {},
   "outputs": [],
   "source": [
    "!brew install tesseract tesseract-lang"
   ]
  },
  {
   "cell_type": "code",
   "execution_count": null,
   "metadata": {},
   "outputs": [],
   "source": [
    "!pip install \"pytesseract==0.3.2\""
   ]
  },
  {
   "cell_type": "code",
   "execution_count": null,
   "metadata": {},
   "outputs": [],
   "source": [
    "import pytesseract"
   ]
  },
  {
   "cell_type": "code",
   "execution_count": null,
   "metadata": {},
   "outputs": [],
   "source": [
    "text = pytesseract.image_to_string('A74_R13_en1024_1.jpg')\n",
    "print(text)"
   ]
  },
  {
   "cell_type": "code",
   "execution_count": null,
   "metadata": {},
   "outputs": [],
   "source": [
    "text = pytesseract.image_to_string('A74_R13_en1024_2.jpg')\n",
    "print(text)"
   ]
  },
  {
   "cell_type": "code",
   "execution_count": null,
   "metadata": {},
   "outputs": [],
   "source": [
    "text = pytesseract.image_to_string('A74_R13_en1024_3.jpg')\n",
    "print(text)"
   ]
  },
  {
   "cell_type": "code",
   "execution_count": null,
   "metadata": {},
   "outputs": [],
   "source": [
    "text = pytesseract.image_to_string('A74_R13_en1024_4.jpg')\n",
    "print(text)"
   ]
  },
  {
   "cell_type": "code",
   "execution_count": null,
   "metadata": {},
   "outputs": [],
   "source": [
    "text = pytesseract.image_to_string('A74_R13_en1024_5.jpg')\n",
    "print(text)"
   ]
  },
  {
   "cell_type": "code",
   "execution_count": null,
   "metadata": {},
   "outputs": [],
   "source": [
    "text = pytesseract.image_to_string('A74_R13_en1024_6.jpg')\n",
    "print(text)"
   ]
  },
  {
   "cell_type": "code",
   "execution_count": null,
   "metadata": {},
   "outputs": [],
   "source": [
    "tables = pytesseract.read_pdf(\"non-english/museums.pdf\", flavor='lattice', pages='1-10')\n",
    "tables"
   ]
  },
  {
   "cell_type": "code",
   "execution_count": null,
   "metadata": {},
   "outputs": [],
   "source": []
  },
  {
   "cell_type": "code",
   "execution_count": null,
   "metadata": {},
   "outputs": [],
   "source": []
  },
  {
   "cell_type": "code",
   "execution_count": null,
   "metadata": {},
   "outputs": [],
   "source": []
  },
  {
   "cell_type": "markdown",
   "metadata": {},
   "source": [
    "## The Avengers\n",
    "\n",
    "Using [THE_AVENGERS.pdf](THE_AVENGERS.pdf), approximately how many lines does Captain America have as compared to Thor and Iron Man?\n",
    "\n",
    "* Character names only: we're only counting `IRON MAN` as Iron Man, not `TONY`.\n",
    "* Your new best friend might be `\\n`\n",
    "* Look up `.count` for strings"
   ]
  },
  {
   "cell_type": "code",
   "execution_count": null,
   "metadata": {},
   "outputs": [],
   "source": []
  },
  {
   "cell_type": "code",
   "execution_count": null,
   "metadata": {},
   "outputs": [],
   "source": []
  },
  {
   "cell_type": "markdown",
   "metadata": {},
   "source": [
    "## COVID data\n",
    "\n",
    "Using [covidweekly2721.pdf](covidweekly2721.pdf), what's the total number of tests performed in Minnesota? Use the Laboratory Test Rates by County of Residence chart.\n",
    "\n",
    "* You COULD pull both tables separately OR you could pull them both at once and split them in pandas.\n",
    "* Remember you can do things like `df[['name','age']]` to ask for multiple columns"
   ]
  },
  {
   "cell_type": "code",
   "execution_count": null,
   "metadata": {},
   "outputs": [],
   "source": []
  },
  {
   "cell_type": "markdown",
   "metadata": {},
   "source": [
    "## Theme Parks\n",
    "\n",
    "Using [2019-Theme-Index-web-1.pdf](2019-Theme-Index-web-1.pdf), save a CSV of the top 10 theme park groups worldwide.\n",
    "\n",
    "* You can clean the results or you can restrict the area the table is pulled from, up to you"
   ]
  },
  {
   "cell_type": "code",
   "execution_count": null,
   "metadata": {},
   "outputs": [],
   "source": []
  },
  {
   "cell_type": "markdown",
   "metadata": {},
   "source": [
    "## Hunting licenses\n",
    "\n",
    "Using [US_Fish_and_Wildlife_Service_2021.pdf](US_Fish_and_Wildlife_Service_2021.pdf) and [a CSV of state populations](http://goodcsv.com/geography/us-states-territories/), find the states with the highest per-capita hunting license holders."
   ]
  },
  {
   "cell_type": "code",
   "execution_count": null,
   "metadata": {},
   "outputs": [],
   "source": []
  }
 ],
 "metadata": {
  "kernelspec": {
   "display_name": "Python 3 (ipykernel)",
   "language": "python",
   "name": "python3"
  },
  "language_info": {
   "codemirror_mode": {
    "name": "ipython",
    "version": 3
   },
   "file_extension": ".py",
   "mimetype": "text/x-python",
   "name": "python",
   "nbconvert_exporter": "python",
   "pygments_lexer": "ipython3",
   "version": "3.8.10"
  }
 },
 "nbformat": 4,
 "nbformat_minor": 4
}
