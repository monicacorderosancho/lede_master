{
 "cells": [
  {
   "cell_type": "code",
   "execution_count": 6,
   "id": "008d0e4a",
   "metadata": {},
   "outputs": [],
   "source": [
    "import requests\n",
    "from bs4 import BeautifulSoup\n",
    "import pandas as pd"
   ]
  },
  {
   "cell_type": "markdown",
   "id": "20fdbc57",
   "metadata": {},
   "source": [
    "## Here is the URL\n"
   ]
  },
  {
   "cell_type": "code",
   "execution_count": 7,
   "id": "d31409c7",
   "metadata": {},
   "outputs": [],
   "source": [
    "response = requests.get(\"https://www.whitehouse.gov/briefing-room/\")\n",
    "doc = BeautifulSoup(response.text,'html.parser')"
   ]
  },
  {
   "cell_type": "code",
   "execution_count": 11,
   "id": "b1c89092",
   "metadata": {},
   "outputs": [],
   "source": [
    "stories = doc.find_all('h2',class_=\"news-item__title\")"
   ]
  },
  {
   "cell_type": "code",
   "execution_count": null,
   "id": "21b15066",
   "metadata": {},
   "outputs": [],
   "source": []
  },
  {
   "cell_type": "code",
   "execution_count": null,
   "id": "457f22ae",
   "metadata": {},
   "outputs": [],
   "source": []
  }
 ],
 "metadata": {
  "kernelspec": {
   "display_name": "Python 3 (ipykernel)",
   "language": "python",
   "name": "python3"
  },
  "language_info": {
   "codemirror_mode": {
    "name": "ipython",
    "version": 3
   },
   "file_extension": ".py",
   "mimetype": "text/x-python",
   "name": "python",
   "nbconvert_exporter": "python",
   "pygments_lexer": "ipython3",
   "version": "3.8.10"
  }
 },
 "nbformat": 4,
 "nbformat_minor": 5
}
