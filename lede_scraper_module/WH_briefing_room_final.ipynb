{
 "cells": [
  {
   "cell_type": "code",
   "execution_count": 6,
   "id": "83a5cbf4",
   "metadata": {},
   "outputs": [],
   "source": [
    "import requests\n",
    "from bs4 import BeautifulSoup\n",
    "import pandas as pd"
   ]
  },
  {
   "cell_type": "code",
   "execution_count": 7,
   "id": "00d38ae0",
   "metadata": {},
   "outputs": [],
   "source": [
    "##We can read the content of the server’s response.\n",
    "response = requests.get('https://www.whitehouse.gov/briefing-room/')\n",
    "doc = BeautifulSoup(response.text,'html.parser')"
   ]
  },
  {
   "cell_type": "code",
   "execution_count": 8,
   "id": "a0ddebcc",
   "metadata": {},
   "outputs": [
    {
     "data": {
      "text/plain": [
       "['\\nPage 1\\nPage 2\\nPage 3\\nPage 4\\n…\\nPage 142\\n',\n",
       " 'Page 1',\n",
       " 'Page 2',\n",
       " 'Page 3',\n",
       " 'Page 4',\n",
       " '…',\n",
       " 'Page 142']"
      ]
     },
     "execution_count": 8,
     "metadata": {},
     "output_type": "execute_result"
    }
   ],
   "source": [
    "# How many pages there are to scrape\n",
    "\n",
    "[item.text for item in doc.select(\".page-numbers\")]\n"
   ]
  },
  {
   "cell_type": "code",
   "execution_count": 13,
   "id": "0182211a",
   "metadata": {},
   "outputs": [],
   "source": [
    "# list of number of pages diplayed on the homepage\n",
    "number_of_pages = [int(item.text.strip('Page ')) for item in doc.select('.page-numbers a')]"
   ]
  },
  {
   "cell_type": "code",
   "execution_count": 14,
   "id": "fc52bef9",
   "metadata": {},
   "outputs": [],
   "source": [
    "# get the biggest number\n",
    "max_num_of_pages = max(number_of_pages)"
   ]
  },
  {
   "cell_type": "code",
   "execution_count": 15,
   "id": "f4b7d47c",
   "metadata": {},
   "outputs": [],
   "source": [
    "# List of numbers from 1 to the max_num_of_pages\n",
    "list_with_pages = list(range(1, max_num_of_pages+1))"
   ]
  },
  {
   "cell_type": "code",
   "execution_count": 16,
   "id": "057a44c9",
   "metadata": {},
   "outputs": [],
   "source": [
    "# List of urls with all the pages to scrape\n",
    "page_urls = []\n",
    "for page in list_with_pages:\n",
    "    url = f\"https://www.whitehouse.gov/briefing-room/page/{page}/\"\n",
    "    page_urls.append(url)"
   ]
  },
  {
   "cell_type": "code",
   "execution_count": 17,
   "id": "0a12e1a9",
   "metadata": {},
   "outputs": [],
   "source": [
    "all_pages = []\n",
    "for page in page_urls:\n",
    "    response = requests.get(page)\n",
    "    doc = BeautifulSoup(response.text,'html.parser')\n",
    "    all_articles = doc.find_all('article') \n",
    "    for article in all_articles:\n",
    "        d = {}\n",
    "        title = article.find('a').text.strip()\n",
    "        #print (title)\n",
    "        article_url = article.find('a')['href']\n",
    "        #print(article_url)\n",
    "        article_date = article.find('time').text.strip()\n",
    "        #print(article_date)\n",
    "        d['title'] = title\n",
    "        d['url'] = article_url\n",
    "        d['article_date'] =  article_date\n",
    "        all_pages.append(d)\n",
    "        "
   ]
  },
  {
   "cell_type": "code",
   "execution_count": 18,
   "id": "f40bf35c",
   "metadata": {},
   "outputs": [
    {
     "data": {
      "text/html": [
       "<div>\n",
       "<style scoped>\n",
       "    .dataframe tbody tr th:only-of-type {\n",
       "        vertical-align: middle;\n",
       "    }\n",
       "\n",
       "    .dataframe tbody tr th {\n",
       "        vertical-align: top;\n",
       "    }\n",
       "\n",
       "    .dataframe thead th {\n",
       "        text-align: right;\n",
       "    }\n",
       "</style>\n",
       "<table border=\"1\" class=\"dataframe\">\n",
       "  <thead>\n",
       "    <tr style=\"text-align: right;\">\n",
       "      <th></th>\n",
       "      <th>title</th>\n",
       "      <th>url</th>\n",
       "      <th>article_date</th>\n",
       "    </tr>\n",
       "  </thead>\n",
       "  <tbody>\n",
       "    <tr>\n",
       "      <th>0</th>\n",
       "      <td>Fact Sheet: Biden Administration Announces Add...</td>\n",
       "      <td>https://www.whitehouse.gov/briefing-room/state...</td>\n",
       "      <td>July 23, 2021</td>\n",
       "    </tr>\n",
       "    <tr>\n",
       "      <th>1</th>\n",
       "      <td>President Biden Announces Presidential Delegat...</td>\n",
       "      <td>https://www.whitehouse.gov/briefing-room/state...</td>\n",
       "      <td>July 23, 2021</td>\n",
       "    </tr>\n",
       "    <tr>\n",
       "      <th>2</th>\n",
       "      <td>Remarks by President Biden Before a Meeting Wi...</td>\n",
       "      <td>https://www.whitehouse.gov/briefing-room/speec...</td>\n",
       "      <td>July 22, 2021</td>\n",
       "    </tr>\n",
       "    <tr>\n",
       "      <th>3</th>\n",
       "      <td>Remarks by President Biden at Signing of H.R. ...</td>\n",
       "      <td>https://www.whitehouse.gov/briefing-room/speec...</td>\n",
       "      <td>July 22, 2021</td>\n",
       "    </tr>\n",
       "    <tr>\n",
       "      <th>4</th>\n",
       "      <td>Press Briefing by Press Secretary Jen Psaki an...</td>\n",
       "      <td>https://www.whitehouse.gov/briefing-room/press...</td>\n",
       "      <td>July 22, 2021</td>\n",
       "    </tr>\n",
       "    <tr>\n",
       "      <th>...</th>\n",
       "      <td>...</td>\n",
       "      <td>...</td>\n",
       "      <td>...</td>\n",
       "    </tr>\n",
       "    <tr>\n",
       "      <th>1407</th>\n",
       "      <td>A Letter to Dr. Eric S. Lander, the President’...</td>\n",
       "      <td>https://www.whitehouse.gov/briefing-room/state...</td>\n",
       "      <td>January 20, 2021</td>\n",
       "    </tr>\n",
       "    <tr>\n",
       "      <th>1408</th>\n",
       "      <td>Fact Sheet: President Biden Sends Immigration ...</td>\n",
       "      <td>https://www.whitehouse.gov/briefing-room/state...</td>\n",
       "      <td>January 20, 2021</td>\n",
       "    </tr>\n",
       "    <tr>\n",
       "      <th>1409</th>\n",
       "      <td>Fact Sheet: President-elect Biden’s Day One Ex...</td>\n",
       "      <td>https://www.whitehouse.gov/briefing-room/state...</td>\n",
       "      <td>January 20, 2021</td>\n",
       "    </tr>\n",
       "    <tr>\n",
       "      <th>1410</th>\n",
       "      <td>Fact Sheet: List of Agency Actions for Review</td>\n",
       "      <td>https://www.whitehouse.gov/briefing-room/state...</td>\n",
       "      <td>January 20, 2021</td>\n",
       "    </tr>\n",
       "    <tr>\n",
       "      <th>1411</th>\n",
       "      <td>Fact Sheet: President-elect Biden Outlines COV...</td>\n",
       "      <td>https://www.whitehouse.gov/briefing-room/state...</td>\n",
       "      <td>January 15, 2021</td>\n",
       "    </tr>\n",
       "  </tbody>\n",
       "</table>\n",
       "<p>1412 rows × 3 columns</p>\n",
       "</div>"
      ],
      "text/plain": [
       "                                                  title  \\\n",
       "0     Fact Sheet: Biden Administration Announces Add...   \n",
       "1     President Biden Announces Presidential Delegat...   \n",
       "2     Remarks by President Biden Before a Meeting Wi...   \n",
       "3     Remarks by President Biden at Signing of H.R. ...   \n",
       "4     Press Briefing by Press Secretary Jen Psaki an...   \n",
       "...                                                 ...   \n",
       "1407  A Letter to Dr. Eric S. Lander, the President’...   \n",
       "1408  Fact Sheet: President Biden Sends Immigration ...   \n",
       "1409  Fact Sheet: President-elect Biden’s Day One Ex...   \n",
       "1410      Fact Sheet: List of Agency Actions for Review   \n",
       "1411  Fact Sheet: President-elect Biden Outlines COV...   \n",
       "\n",
       "                                                    url      article_date  \n",
       "0     https://www.whitehouse.gov/briefing-room/state...     July 23, 2021  \n",
       "1     https://www.whitehouse.gov/briefing-room/state...     July 23, 2021  \n",
       "2     https://www.whitehouse.gov/briefing-room/speec...     July 22, 2021  \n",
       "3     https://www.whitehouse.gov/briefing-room/speec...     July 22, 2021  \n",
       "4     https://www.whitehouse.gov/briefing-room/press...     July 22, 2021  \n",
       "...                                                 ...               ...  \n",
       "1407  https://www.whitehouse.gov/briefing-room/state...  January 20, 2021  \n",
       "1408  https://www.whitehouse.gov/briefing-room/state...  January 20, 2021  \n",
       "1409  https://www.whitehouse.gov/briefing-room/state...  January 20, 2021  \n",
       "1410  https://www.whitehouse.gov/briefing-room/state...  January 20, 2021  \n",
       "1411  https://www.whitehouse.gov/briefing-room/state...  January 15, 2021  \n",
       "\n",
       "[1412 rows x 3 columns]"
      ]
     },
     "execution_count": 18,
     "metadata": {},
     "output_type": "execute_result"
    }
   ],
   "source": [
    "pd.DataFrame(all_pages)"
   ]
  },
  {
   "cell_type": "code",
   "execution_count": null,
   "id": "41bee2a3",
   "metadata": {},
   "outputs": [],
   "source": [
    "#"
   ]
  },
  {
   "cell_type": "code",
   "execution_count": null,
   "id": "f5863d80",
   "metadata": {},
   "outputs": [],
   "source": [
    "## all_articles = doc.find_all('article')\n",
    "## df = pd.DataFrame()\n",
    "## for article in all_articles:\n",
    "    ##title = article.find('a').text.strip()\n",
    "    ##print (title)\n",
    "    ##article_url = article.find('a')['href']\n",
    "    ##print(article_url)\n",
    "    ##article_date = article.find('time').text.strip()\n",
    "    ##print(article_date)\n",
    "    ##d = {}\n",
    "    ##print(title)\n",
    "    ##print(article_url)\n",
    "    ##print(article_date) \n",
    "    ##d['title'] = title\n",
    "    ##d['url'] = article_url\n",
    "    ##d['article_date'] =  article_date\n",
    "    ##df = df.append(d,ignore_index=True)\n",
    "    \n",
    "##print(df)\n",
    "    \n"
   ]
  }
 ],
 "metadata": {
  "kernelspec": {
   "display_name": "Python 3 (ipykernel)",
   "language": "python",
   "name": "python3"
  },
  "language_info": {
   "codemirror_mode": {
    "name": "ipython",
    "version": 3
   },
   "file_extension": ".py",
   "mimetype": "text/x-python",
   "name": "python",
   "nbconvert_exporter": "python",
   "pygments_lexer": "ipython3",
   "version": "3.8.10"
  }
 },
 "nbformat": 4,
 "nbformat_minor": 5
}
