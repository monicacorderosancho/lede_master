{
 "cells": [
  {
   "cell_type": "code",
   "execution_count": 2,
   "id": "a39de1a6",
   "metadata": {},
   "outputs": [
    {
     "name": "stderr",
     "output_type": "stream",
     "text": [
      "/Users/monicacordero/.pyenv/versions/3.8.10/lib/python3.8/site-packages/pandas-1.4.0.dev0+143.g5675cd8ab2-py3.8-macosx-11.3-arm64.egg/pandas/compat/__init__.py:124: UserWarning: Could not import the lzma module. Your installed Python is incomplete. Attempting to use lzma compression will result in a RuntimeError.\n",
      "  warnings.warn(msg)\n"
     ]
    }
   ],
   "source": [
    "import requests\n",
    "from bs4 import BeautifulSoup\n",
    "import pandas as pd"
   ]
  },
  {
   "cell_type": "markdown",
   "id": "a0e2ef40",
   "metadata": {},
   "source": [
    "## Here is the URL"
   ]
  },
  {
   "cell_type": "code",
   "execution_count": 18,
   "id": "f90a81c7",
   "metadata": {},
   "outputs": [],
   "source": [
    "response=requests.get(\"https://adfinternational.org/regions/united-nations/?post_type=news#page=1000\", headers={'User-Agent': 'Mozilla/5.0'}) \n",
    "## bring all together \n",
    "doc = BeautifulSoup(response.text, \"html.parser\")"
   ]
  },
  {
   "cell_type": "code",
   "execution_count": 19,
   "id": "b7a837f9",
   "metadata": {},
   "outputs": [],
   "source": [
    "content = doc.find_all('li',class_=\"article-list-item\")"
   ]
  },
  {
   "cell_type": "code",
   "execution_count": 20,
   "id": "fbcd956c",
   "metadata": {},
   "outputs": [
    {
     "data": {
      "text/plain": [
       "[<li class=\"article-list-item\"><a class=\"news\" href=\"https://adfinternational.org/news/over-30-governments-use-un-platform-to-speak-out-against-religious-persecution/\">\n",
       " <div class=\"article-featured-image\"><img alt=\"\" class=\"attachment-post-thumbnail size-post-thumbnail wp-post-image\" height=\"883\" loading=\"lazy\" sizes=\"(max-width: 1900px) 100vw, 1900px\" src=\"https://1ztp833emcflef7tm24jjqbe-wpengine.netdna-ssl.com/wp-content/uploads/2021/02/20162311_IraqPicturesNinivePlain100-1-e1612785142313.jpg\" srcset=\"https://1ztp833emcflef7tm24jjqbe-wpengine.netdna-ssl.com/wp-content/uploads/2021/02/20162311_IraqPicturesNinivePlain100-1-e1612785142313.jpg 1900w, https://1ztp833emcflef7tm24jjqbe-wpengine.netdna-ssl.com/wp-content/uploads/2021/02/20162311_IraqPicturesNinivePlain100-1-e1612785142313-300x139.jpg 300w, https://1ztp833emcflef7tm24jjqbe-wpengine.netdna-ssl.com/wp-content/uploads/2021/02/20162311_IraqPicturesNinivePlain100-1-e1612785142313-1024x476.jpg 1024w, https://1ztp833emcflef7tm24jjqbe-wpengine.netdna-ssl.com/wp-content/uploads/2021/02/20162311_IraqPicturesNinivePlain100-1-e1612785142313-768x357.jpg 768w, https://1ztp833emcflef7tm24jjqbe-wpengine.netdna-ssl.com/wp-content/uploads/2021/02/20162311_IraqPicturesNinivePlain100-1-e1612785142313-1536x714.jpg 1536w\" width=\"1900\"/></div>\n",
       " <span class=\"content-type\">news</span>\n",
       " <div class=\"article-content\">\n",
       " <h4>Over 30 governments use UN platform to speak out against religious persecution</h4>\n",
       " <p class=\"text-muted narrow-text\">GENEVA (3 February 2021) – Which human rights are most threatened worldwide? For those following developments at the UN’s Human Rights Council during the past weeks, freedom of religion and belief was...</p>\n",
       " <strong class=\"link\">Published on 03 Feb 2021</strong>\n",
       " </div>\n",
       " </a>\n",
       " </li>,\n",
       " <li class=\"article-list-item\"><a class=\"news\" href=\"https://adfinternational.org/news/un-human-rights-council-african-countries-under-pressure-for-protecting-life/\">\n",
       " <div class=\"article-featured-image\"><img alt=\"UN logo with name at the entrance of the United Nations office in Geneva Switzerland\" class=\"attachment-post-thumbnail size-post-thumbnail wp-post-image\" height=\"885\" loading=\"lazy\" sizes=\"(max-width: 1920px) 100vw, 1920px\" src=\"https://1ztp833emcflef7tm24jjqbe-wpengine.netdna-ssl.com/wp-content/uploads/2020/07/bigstock-Geneva-Switzerland-January-369715201.jpg\" srcset=\"https://1ztp833emcflef7tm24jjqbe-wpengine.netdna-ssl.com/wp-content/uploads/2020/07/bigstock-Geneva-Switzerland-January-369715201.jpg 1920w, https://1ztp833emcflef7tm24jjqbe-wpengine.netdna-ssl.com/wp-content/uploads/2020/07/bigstock-Geneva-Switzerland-January-369715201-300x138.jpg 300w, https://1ztp833emcflef7tm24jjqbe-wpengine.netdna-ssl.com/wp-content/uploads/2020/07/bigstock-Geneva-Switzerland-January-369715201-1024x472.jpg 1024w, https://1ztp833emcflef7tm24jjqbe-wpengine.netdna-ssl.com/wp-content/uploads/2020/07/bigstock-Geneva-Switzerland-January-369715201-768x354.jpg 768w, https://1ztp833emcflef7tm24jjqbe-wpengine.netdna-ssl.com/wp-content/uploads/2020/07/bigstock-Geneva-Switzerland-January-369715201-1536x708.jpg 1536w\" width=\"1920\"/></div>\n",
       " <span class=\"content-type\">news</span>\n",
       " <div class=\"article-content\">\n",
       " <h4>UN Human Rights Council: African countries under pressure for protecting life</h4>\n",
       " <p class=\"text-muted narrow-text\">GENEVA (29 September 2020) – During the 45th session of the Human Rights Council in Geneva, the human rights organization ADF International delivered a statement at the UN Human Rights...</p>\n",
       " <strong class=\"link\">Published on 29 Sep 2020</strong>\n",
       " </div>\n",
       " </a>\n",
       " </li>,\n",
       " <li class=\"article-list-item\"><a class=\"news\" href=\"https://adfinternational.org/news/adf-international-to-un-new-zealands-euthanasia-bill-alarming/\">\n",
       " <div class=\"article-featured-image\"><img alt=\"Bigstock 197507698\" class=\"attachment-post-thumbnail size-post-thumbnail wp-post-image\" height=\"885\" loading=\"lazy\" sizes=\"(max-width: 1920px) 100vw, 1920px\" src=\"https://1ztp833emcflef7tm24jjqbe-wpengine.netdna-ssl.com/wp-content/uploads/2020/07/bigstock-197507698.jpg\" srcset=\"https://1ztp833emcflef7tm24jjqbe-wpengine.netdna-ssl.com/wp-content/uploads/2020/07/bigstock-197507698.jpg 1920w, https://1ztp833emcflef7tm24jjqbe-wpengine.netdna-ssl.com/wp-content/uploads/2020/07/bigstock-197507698-300x138.jpg 300w, https://1ztp833emcflef7tm24jjqbe-wpengine.netdna-ssl.com/wp-content/uploads/2020/07/bigstock-197507698-1024x472.jpg 1024w, https://1ztp833emcflef7tm24jjqbe-wpengine.netdna-ssl.com/wp-content/uploads/2020/07/bigstock-197507698-768x354.jpg 768w, https://1ztp833emcflef7tm24jjqbe-wpengine.netdna-ssl.com/wp-content/uploads/2020/07/bigstock-197507698-1536x708.jpg 1536w\" width=\"1920\"/></div>\n",
       " <span class=\"content-type\">news</span>\n",
       " <div class=\"article-content\">\n",
       " <h4>ADF International to UN: New Zealand’s euthanasia bill “alarming”</h4>\n",
       " <p class=\"text-muted narrow-text\">GENEVA (23 September 2020) – At a dialogue with the Independent Expert on the Enjoyment of all Human Rights by Older Persons, ADF International delivered a statement on the dangers...</p>\n",
       " <strong class=\"link\">Published on 22 Sep 2020</strong>\n",
       " </div>\n",
       " </a>\n",
       " </li>,\n",
       " <li class=\"article-list-item\"><a class=\"news\" href=\"https://adfinternational.org/news/un-special-rapporteur-on-religious-persecution-in-india-solidarity-with-victims-important/\">\n",
       " <div class=\"article-featured-image\"><img alt=\"India Church\" class=\"attachment-post-thumbnail size-post-thumbnail wp-post-image\" height=\"885\" loading=\"lazy\" sizes=\"(max-width: 1920px) 100vw, 1920px\" src=\"https://1ztp833emcflef7tm24jjqbe-wpengine.netdna-ssl.com/wp-content/uploads/2018/08/P1130381.jpg\" srcset=\"https://1ztp833emcflef7tm24jjqbe-wpengine.netdna-ssl.com/wp-content/uploads/2018/08/P1130381.jpg 1920w, https://1ztp833emcflef7tm24jjqbe-wpengine.netdna-ssl.com/wp-content/uploads/2018/08/P1130381-300x138.jpg 300w, https://1ztp833emcflef7tm24jjqbe-wpengine.netdna-ssl.com/wp-content/uploads/2018/08/P1130381-768x354.jpg 768w, https://1ztp833emcflef7tm24jjqbe-wpengine.netdna-ssl.com/wp-content/uploads/2018/08/P1130381-1024x472.jpg 1024w\" width=\"1920\"/></div>\n",
       " <span class=\"content-type\">news</span>\n",
       " <div class=\"article-content\">\n",
       " <h4>UN Special Rapporteur on religious persecution in India: “solidarity with victims important.”</h4>\n",
       " <p class=\"text-muted narrow-text\">NEW DELHI (21 August 2020) – Amidst the COVID-19 crisis in India and a time when attacks and violence against religious minorities in...</p>\n",
       " <strong class=\"link\">Published on 20 Aug 2020</strong>\n",
       " </div>\n",
       " </a>\n",
       " </li>,\n",
       " <li class=\"article-list-item\"><a class=\"news\" href=\"https://adfinternational.org/news/freedom-of-religion-indispensable-for-individual-and-society/\">\n",
       " <div class=\"article-featured-image\"><img alt=\"banner-washington-dc\" class=\"attachment-post-thumbnail size-post-thumbnail wp-post-image\" height=\"885\" loading=\"lazy\" sizes=\"(max-width: 1920px) 100vw, 1920px\" src=\"https://1ztp833emcflef7tm24jjqbe-wpengine.netdna-ssl.com/wp-content/uploads/2018/01/banner-washington-dc.jpg\" srcset=\"https://1ztp833emcflef7tm24jjqbe-wpengine.netdna-ssl.com/wp-content/uploads/2018/01/banner-washington-dc.jpg 1920w, https://1ztp833emcflef7tm24jjqbe-wpengine.netdna-ssl.com/wp-content/uploads/2018/01/banner-washington-dc-300x138.jpg 300w, https://1ztp833emcflef7tm24jjqbe-wpengine.netdna-ssl.com/wp-content/uploads/2018/01/banner-washington-dc-768x354.jpg 768w, https://1ztp833emcflef7tm24jjqbe-wpengine.netdna-ssl.com/wp-content/uploads/2018/01/banner-washington-dc-1024x472.jpg 1024w\" width=\"1920\"/></div>\n",
       " <span class=\"content-type\">news</span>\n",
       " <div class=\"article-content\">\n",
       " <h4>Freedom of religion “indispensable for individual and society”</h4>\n",
       " <p class=\"text-muted narrow-text\">WASHINGTON DC (30 July 2020) – ADF International has submitted a public comment to the US Commission on Unalienable Rights about the struggles of the international human rights project and...</p>\n",
       " <strong class=\"link\">Published on 31 Jul 2020</strong>\n",
       " </div>\n",
       " </a>\n",
       " </li>,\n",
       " <li class=\"article-list-item\"><a class=\"news\" href=\"https://adfinternational.org/news/75th-anniversary-of-the-united-nations-revitalize-the-human-rights-project/\">\n",
       " <div class=\"article-featured-image\"><img alt=\"United Nations Headquarters With Flags Of Members Of The Un\" class=\"attachment-post-thumbnail size-post-thumbnail wp-post-image\" height=\"885\" loading=\"lazy\" sizes=\"(max-width: 1920px) 100vw, 1920px\" src=\"https://1ztp833emcflef7tm24jjqbe-wpengine.netdna-ssl.com/wp-content/uploads/2017/06/bigstock-United-Nations-Headquarters-Wi-97398452.jpg\" srcset=\"https://1ztp833emcflef7tm24jjqbe-wpengine.netdna-ssl.com/wp-content/uploads/2017/06/bigstock-United-Nations-Headquarters-Wi-97398452.jpg 1920w, https://1ztp833emcflef7tm24jjqbe-wpengine.netdna-ssl.com/wp-content/uploads/2017/06/bigstock-United-Nations-Headquarters-Wi-97398452-300x138.jpg 300w, https://1ztp833emcflef7tm24jjqbe-wpengine.netdna-ssl.com/wp-content/uploads/2017/06/bigstock-United-Nations-Headquarters-Wi-97398452-768x354.jpg 768w, https://1ztp833emcflef7tm24jjqbe-wpengine.netdna-ssl.com/wp-content/uploads/2017/06/bigstock-United-Nations-Headquarters-Wi-97398452-1024x472.jpg 1024w\" width=\"1920\"/></div>\n",
       " <span class=\"content-type\">news</span>\n",
       " <div class=\"article-content\">\n",
       " <h4>75th anniversary of the United Nations: “revitalize the human rights project”</h4>\n",
       " <p class=\"text-muted narrow-text\">NEW YORK (26 June 2020) – Today marks the 75th anniversary of the founding of the United Nations. ADF International holds a presence in New York and Geneva engaging on...</p>\n",
       " <strong class=\"link\">Published on 26 Jun 2020</strong>\n",
       " </div>\n",
       " </a>\n",
       " </li>,\n",
       " <li class=\"article-list-item\"><a class=\"news\" href=\"https://adfinternational.org/news/victims-of-isis-genocide-still-waiting-for-justice/\">\n",
       " <div class=\"article-featured-image\"><img alt=\"banner_genocide\" class=\"attachment-post-thumbnail size-post-thumbnail wp-post-image\" height=\"885\" loading=\"lazy\" sizes=\"(max-width: 1920px) 100vw, 1920px\" src=\"https://1ztp833emcflef7tm24jjqbe-wpengine.netdna-ssl.com/wp-content/uploads/2018/01/banner_genocide.jpg\" srcset=\"https://1ztp833emcflef7tm24jjqbe-wpengine.netdna-ssl.com/wp-content/uploads/2018/01/banner_genocide.jpg 1920w, https://1ztp833emcflef7tm24jjqbe-wpengine.netdna-ssl.com/wp-content/uploads/2018/01/banner_genocide-300x138.jpg 300w, https://1ztp833emcflef7tm24jjqbe-wpengine.netdna-ssl.com/wp-content/uploads/2018/01/banner_genocide-768x354.jpg 768w, https://1ztp833emcflef7tm24jjqbe-wpengine.netdna-ssl.com/wp-content/uploads/2018/01/banner_genocide-1024x472.jpg 1024w\" width=\"1920\"/></div>\n",
       " <span class=\"content-type\">news</span>\n",
       " <div class=\"article-content\">\n",
       " <h4>Victims of ISIS genocide still waiting for justice</h4>\n",
       " <p class=\"text-muted narrow-text\">VIENNA (9 December 2019) – Today is “International Day of Commemoration and Dignity of the Victims of the Crime of Genocide and of the Prevention of this Crime”. In 2017,...</p>\n",
       " <strong class=\"link\">Published on 09 Dec 2019</strong>\n",
       " </div>\n",
       " </a>\n",
       " </li>,\n",
       " <li class=\"article-list-item\"><a class=\"news\" href=\"https://adfinternational.org/news/international-day-of-older-persons-protect-the-most-vulnerable/\">\n",
       " <div class=\"article-featured-image\"><img alt=\"Palliativecare\" class=\"attachment-post-thumbnail size-post-thumbnail wp-post-image\" height=\"885\" loading=\"lazy\" sizes=\"(max-width: 1920px) 100vw, 1920px\" src=\"https://1ztp833emcflef7tm24jjqbe-wpengine.netdna-ssl.com/wp-content/uploads/2017/10/palliativecare.jpg\" srcset=\"https://1ztp833emcflef7tm24jjqbe-wpengine.netdna-ssl.com/wp-content/uploads/2017/10/palliativecare.jpg 1920w, https://1ztp833emcflef7tm24jjqbe-wpengine.netdna-ssl.com/wp-content/uploads/2017/10/palliativecare-300x138.jpg 300w, https://1ztp833emcflef7tm24jjqbe-wpengine.netdna-ssl.com/wp-content/uploads/2017/10/palliativecare-768x354.jpg 768w, https://1ztp833emcflef7tm24jjqbe-wpengine.netdna-ssl.com/wp-content/uploads/2017/10/palliativecare-1024x472.jpg 1024w\" width=\"1920\"/></div>\n",
       " <span class=\"content-type\">news</span>\n",
       " <div class=\"article-content\">\n",
       " <h4>International Day of Older Persons: protect the most vulnerable</h4>\n",
       " <p class=\"text-muted narrow-text\">VIENNA (1 October 2019) – 1 October is International Day of Older Persons. According to the UN, population ageing is set to become one of the most significant social transformations...</p>\n",
       " <strong class=\"link\">Published on 01 Oct 2019</strong>\n",
       " </div>\n",
       " </a>\n",
       " </li>,\n",
       " <li class=\"article-list-item\"><a class=\"news\" href=\"https://adfinternational.org/news/us-president-protecting-religious-freedom-highest-priority/\">\n",
       " <div class=\"article-featured-image\"><img alt=\"United Nations General Assembly In New York\" class=\"attachment-post-thumbnail size-post-thumbnail wp-post-image\" height=\"885\" loading=\"lazy\" sizes=\"(max-width: 1920px) 100vw, 1920px\" src=\"https://1ztp833emcflef7tm24jjqbe-wpengine.netdna-ssl.com/wp-content/uploads/2015/08/bigstock-United-Nations-General-Assembl-148777454.jpg\" srcset=\"https://1ztp833emcflef7tm24jjqbe-wpengine.netdna-ssl.com/wp-content/uploads/2015/08/bigstock-United-Nations-General-Assembl-148777454.jpg 1920w, https://1ztp833emcflef7tm24jjqbe-wpengine.netdna-ssl.com/wp-content/uploads/2015/08/bigstock-United-Nations-General-Assembl-148777454-300x138.jpg 300w, https://1ztp833emcflef7tm24jjqbe-wpengine.netdna-ssl.com/wp-content/uploads/2015/08/bigstock-United-Nations-General-Assembl-148777454-768x354.jpg 768w, https://1ztp833emcflef7tm24jjqbe-wpengine.netdna-ssl.com/wp-content/uploads/2015/08/bigstock-United-Nations-General-Assembl-148777454-1024x472.jpg 1024w\" width=\"1920\"/></div>\n",
       " <span class=\"content-type\">news</span>\n",
       " <div class=\"article-content\">\n",
       " <h4>US President: protecting religious freedom “highest priority”</h4>\n",
       " <p class=\"text-muted narrow-text\">NEW YORK (23 September 2019) – Today, in a speech during the United Nations General Assembly, United States President Donald Trump announced a “global call to protect religious freedom.” It...</p>\n",
       " <strong class=\"link\">Published on 23 Sep 2019</strong>\n",
       " </div>\n",
       " </a>\n",
       " </li>]"
      ]
     },
     "execution_count": 20,
     "metadata": {},
     "output_type": "execute_result"
    }
   ],
   "source": [
    "content"
   ]
  },
  {
   "cell_type": "code",
   "execution_count": 21,
   "id": "a4cd1635",
   "metadata": {},
   "outputs": [
    {
     "name": "stdout",
     "output_type": "stream",
     "text": [
      "Over 30 governments use UN platform to speak out against religious persecution\n",
      "UN Human Rights Council: African countries under pressure for protecting life\n",
      "ADF International to UN: New Zealand’s euthanasia bill “alarming”\n",
      "UN Special Rapporteur on religious persecution in India: “solidarity with victims important.”\n",
      "Freedom of religion “indispensable for individual and society”\n",
      "75th anniversary of the United Nations: “revitalize the human rights project”\n",
      "Victims of ISIS genocide still waiting for justice\n",
      "International Day of Older Persons: protect the most vulnerable\n",
      "US President: protecting religious freedom “highest priority”\n"
     ]
    }
   ],
   "source": [
    "### pagination\n",
    "for head in content:\n",
    "    print(head.find('h4').text)"
   ]
  },
  {
   "cell_type": "code",
   "execution_count": null,
   "id": "5d77b606",
   "metadata": {},
   "outputs": [],
   "source": [
    "# if I change paged at the end, it scrapes a different set of headlines meaning it refreshing the page index=0 pages= f'https://adfinternational.org/regions/united-nations/?post_type=news&paged={index}' for page in pages: index=index+1 if index < 9: page= f'https://adfinternational.org/regions/united-nations/?post_type=news&paged={index}' print(page) else: print('end')"
   ]
  },
  {
   "cell_type": "code",
   "execution_count": null,
   "id": "21a93a5c",
   "metadata": {},
   "outputs": [],
   "source": []
  }
 ],
 "metadata": {
  "kernelspec": {
   "display_name": "Python 3 (ipykernel)",
   "language": "python",
   "name": "python3"
  },
  "language_info": {
   "codemirror_mode": {
    "name": "ipython",
    "version": 3
   },
   "file_extension": ".py",
   "mimetype": "text/x-python",
   "name": "python",
   "nbconvert_exporter": "python",
   "pygments_lexer": "ipython3",
   "version": "3.8.10"
  }
 },
 "nbformat": 4,
 "nbformat_minor": 5
}
