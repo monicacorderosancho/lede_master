{
 "cells": [
  {
   "cell_type": "markdown",
   "id": "baec32aa",
   "metadata": {},
   "source": [
    "## Findings "
   ]
  },
  {
   "cell_type": "markdown",
   "id": "cba92540",
   "metadata": {},
   "source": [
    "    1. Step 1\n",
    "    2. Step 2\n",
    "    3. Step 3\n",
    "       * Item 3a\n",
    "       * Item 3b\n",
    "       * Item 3c"
   ]
  },
  {
   "cell_type": "markdown",
   "id": "107cfce5",
   "metadata": {},
   "source": [
    "## Set up"
   ]
  },
  {
   "cell_type": "code",
   "execution_count": 1,
   "id": "38654549",
   "metadata": {},
   "outputs": [
    {
     "name": "stderr",
     "output_type": "stream",
     "text": [
      "/Users/monicacordero/.pyenv/versions/3.8.10/lib/python3.8/site-packages/pandas-1.4.0.dev0+143.g5675cd8ab2-py3.8-macosx-11.3-arm64.egg/pandas/compat/__init__.py:124: UserWarning: Could not import the lzma module. Your installed Python is incomplete. Attempting to use lzma compression will result in a RuntimeError.\n",
      "  warnings.warn(msg)\n"
     ]
    }
   ],
   "source": [
    "import requests\n",
    "import pandas as pd"
   ]
  },
  {
   "cell_type": "code",
   "execution_count": 2,
   "id": "8256daad",
   "metadata": {},
   "outputs": [],
   "source": [
    "import numpy as np"
   ]
  },
  {
   "cell_type": "code",
   "execution_count": 3,
   "id": "3f0a21d5",
   "metadata": {},
   "outputs": [],
   "source": [
    "from datetime import datetime\n",
    "from datetime import date"
   ]
  },
  {
   "cell_type": "markdown",
   "id": "18c0adc0",
   "metadata": {},
   "source": [
    "## Get and check the data"
   ]
  },
  {
   "cell_type": "code",
   "execution_count": 4,
   "id": "c636e303",
   "metadata": {},
   "outputs": [
    {
     "data": {
      "text/plain": [
       "'/Users/monicacordero/Documents/IM'"
      ]
     },
     "execution_count": 4,
     "metadata": {},
     "output_type": "execute_result"
    }
   ],
   "source": [
    "pwd"
   ]
  },
  {
   "cell_type": "code",
   "execution_count": 5,
   "id": "d41ca05a",
   "metadata": {},
   "outputs": [
    {
     "data": {
      "text/html": [
       "<div>\n",
       "<style scoped>\n",
       "    .dataframe tbody tr th:only-of-type {\n",
       "        vertical-align: middle;\n",
       "    }\n",
       "\n",
       "    .dataframe tbody tr th {\n",
       "        vertical-align: top;\n",
       "    }\n",
       "\n",
       "    .dataframe thead th {\n",
       "        text-align: right;\n",
       "    }\n",
       "</style>\n",
       "<table border=\"1\" class=\"dataframe\">\n",
       "  <thead>\n",
       "    <tr style=\"text-align: right;\">\n",
       "      <th></th>\n",
       "      <th>summary_nr</th>\n",
       "      <th>line_nr</th>\n",
       "      <th>abstract_text</th>\n",
       "      <th>load_dt</th>\n",
       "    </tr>\n",
       "  </thead>\n",
       "  <tbody>\n",
       "    <tr>\n",
       "      <th>0</th>\n",
       "      <td>38083</td>\n",
       "      <td>1</td>\n",
       "      <td>An employee working for Asplundh Tree Expert C...</td>\n",
       "      <td>2019-07-22 00:19:26 EDT</td>\n",
       "    </tr>\n",
       "  </tbody>\n",
       "</table>\n",
       "</div>"
      ],
      "text/plain": [
       "   summary_nr  line_nr                                      abstract_text  \\\n",
       "0       38083        1  An employee working for Asplundh Tree Expert C...   \n",
       "\n",
       "                   load_dt  \n",
       "0  2019-07-22 00:19:26 EDT  "
      ]
     },
     "execution_count": 5,
     "metadata": {},
     "output_type": "execute_result"
    }
   ],
   "source": [
    "## osha accident abstract\n",
    "df2 = pd.read_csv(\"/Users/monicacordero/Documents/IM/osha_accident_abstract.csv\")\n",
    "df2.head(1)"
   ]
  },
  {
   "cell_type": "code",
   "execution_count": 22,
   "id": "39ed40c2",
   "metadata": {},
   "outputs": [
    {
     "data": {
      "text/html": [
       "<div>\n",
       "<style scoped>\n",
       "    .dataframe tbody tr th:only-of-type {\n",
       "        vertical-align: middle;\n",
       "    }\n",
       "\n",
       "    .dataframe tbody tr th {\n",
       "        vertical-align: top;\n",
       "    }\n",
       "\n",
       "    .dataframe thead th {\n",
       "        text-align: right;\n",
       "    }\n",
       "</style>\n",
       "<table border=\"1\" class=\"dataframe\">\n",
       "  <thead>\n",
       "    <tr style=\"text-align: right;\">\n",
       "      <th></th>\n",
       "      <th>summary_nr</th>\n",
       "      <th>report_id</th>\n",
       "      <th>event_date</th>\n",
       "      <th>event_time</th>\n",
       "      <th>event_desc</th>\n",
       "      <th>event_keyword</th>\n",
       "      <th>const_end_use</th>\n",
       "      <th>build_stories</th>\n",
       "      <th>nonbuild_ht</th>\n",
       "      <th>project_cost</th>\n",
       "      <th>project_type</th>\n",
       "      <th>sic_list</th>\n",
       "      <th>fatality</th>\n",
       "      <th>state_flag</th>\n",
       "      <th>abstract_text</th>\n",
       "      <th>load_dt</th>\n",
       "    </tr>\n",
       "  </thead>\n",
       "  <tbody>\n",
       "    <tr>\n",
       "      <th>0</th>\n",
       "      <td>9407</td>\n",
       "      <td>112600</td>\n",
       "      <td>1984-03-25 00:00:00</td>\n",
       "      <td>NaN</td>\n",
       "      <td>NONE</td>\n",
       "      <td>NaN</td>\n",
       "      <td>NaN</td>\n",
       "      <td>NaN</td>\n",
       "      <td>NaN</td>\n",
       "      <td>NaN</td>\n",
       "      <td>NaN</td>\n",
       "      <td>2621</td>\n",
       "      <td>X</td>\n",
       "      <td>NaN</td>\n",
       "      <td>NaN</td>\n",
       "      <td>2019-07-22 00:18:27 EDT</td>\n",
       "    </tr>\n",
       "  </tbody>\n",
       "</table>\n",
       "</div>"
      ],
      "text/plain": [
       "   summary_nr  report_id           event_date  event_time event_desc  \\\n",
       "0        9407     112600  1984-03-25 00:00:00         NaN       NONE   \n",
       "\n",
       "  event_keyword const_end_use  build_stories  nonbuild_ht project_cost  \\\n",
       "0           NaN           NaN            NaN          NaN          NaN   \n",
       "\n",
       "  project_type sic_list fatality  state_flag  abstract_text  \\\n",
       "0          NaN     2621        X         NaN            NaN   \n",
       "\n",
       "                   load_dt  \n",
       "0  2019-07-22 00:18:27 EDT  "
      ]
     },
     "execution_count": 22,
     "metadata": {},
     "output_type": "execute_result"
    }
   ],
   "source": [
    "# osha accident df.describe() me da mean, min\n",
    "df= pd.read_csv(\"osha_accident.csv\")\n",
    "df.head(1)\n"
   ]
  },
  {
   "cell_type": "code",
   "execution_count": 7,
   "id": "1346dec8",
   "metadata": {},
   "outputs": [
    {
     "data": {
      "text/plain": [
       "(142981, 16)"
      ]
     },
     "execution_count": 7,
     "metadata": {},
     "output_type": "execute_result"
    }
   ],
   "source": [
    "# number of rows and column types\n",
    "df.shape"
   ]
  },
  {
   "cell_type": "code",
   "execution_count": 8,
   "id": "2a25167b",
   "metadata": {},
   "outputs": [
    {
     "name": "stdout",
     "output_type": "stream",
     "text": [
      "<class 'pandas.core.frame.DataFrame'>\n",
      "RangeIndex: 142981 entries, 0 to 142980\n",
      "Data columns (total 16 columns):\n",
      " #   Column         Non-Null Count   Dtype  \n",
      "---  ------         --------------   -----  \n",
      " 0   summary_nr     142981 non-null  int64  \n",
      " 1   report_id      142981 non-null  int64  \n",
      " 2   event_date     142981 non-null  object \n",
      " 3   event_time     0 non-null       float64\n",
      " 4   event_desc     142979 non-null  object \n",
      " 5   event_keyword  142713 non-null  object \n",
      " 6   const_end_use  30759 non-null   object \n",
      " 7   build_stories  21528 non-null   float64\n",
      " 8   nonbuild_ht    15317 non-null   float64\n",
      " 9   project_cost   25498 non-null   object \n",
      " 10  project_type   31130 non-null   object \n",
      " 11  sic_list       109089 non-null  object \n",
      " 12  fatality       64554 non-null   object \n",
      " 13  state_flag     0 non-null       float64\n",
      " 14  abstract_text  0 non-null       float64\n",
      " 15  load_dt        142981 non-null  object \n",
      "dtypes: float64(5), int64(2), object(9)\n",
      "memory usage: 17.5+ MB\n"
     ]
    }
   ],
   "source": [
    "## Cheking null Columns, Non-Null, type\n",
    "df.info()"
   ]
  },
  {
   "cell_type": "code",
   "execution_count": 21,
   "id": "6a7e785f",
   "metadata": {},
   "outputs": [],
   "source": [
    "## checking and filter by event_date column \n",
    "df.sort_values(by = [\"event_date\"],ascending = False)\n",
    "df[\"event_date\"] = pd.to_datetime(df[\"event_date\"])\n",
    "df_filtered = df[df[\"event_date\"]>\"2016-1-1\"].copy()\n",
    "# print(df_filtered)"
   ]
  },
  {
   "cell_type": "code",
   "execution_count": 26,
   "id": "9dad7d9f",
   "metadata": {},
   "outputs": [
    {
     "name": "stdout",
     "output_type": "stream",
     "text": [
      "<class 'pandas.core.frame.DataFrame'>\n",
      "Int64Index: 29258 entries, 112699 to 142069\n",
      "Data columns (total 16 columns):\n",
      " #   Column         Non-Null Count  Dtype         \n",
      "---  ------         --------------  -----         \n",
      " 0   summary_nr     29258 non-null  int64         \n",
      " 1   report_id      29258 non-null  int64         \n",
      " 2   event_date     29258 non-null  datetime64[ns]\n",
      " 3   event_time     0 non-null      float64       \n",
      " 4   event_desc     29258 non-null  object        \n",
      " 5   event_keyword  29157 non-null  object        \n",
      " 6   const_end_use  5655 non-null   object        \n",
      " 7   build_stories  4200 non-null   float64       \n",
      " 8   nonbuild_ht    3255 non-null   float64       \n",
      " 9   project_cost   864 non-null    object        \n",
      " 10  project_type   5943 non-null   object        \n",
      " 11  sic_list       0 non-null      object        \n",
      " 12  fatality       10532 non-null  object        \n",
      " 13  state_flag     0 non-null      float64       \n",
      " 14  abstract_text  0 non-null      float64       \n",
      " 15  load_dt        29258 non-null  object        \n",
      "dtypes: datetime64[ns](1), float64(5), int64(2), object(8)\n",
      "memory usage: 3.8+ MB\n"
     ]
    }
   ],
   "source": [
    "df_filtered.info()"
   ]
  },
  {
   "cell_type": "code",
   "execution_count": 25,
   "id": "bb13cca6",
   "metadata": {},
   "outputs": [],
   "source": [
    "## made a copy \n"
   ]
  },
  {
   "cell_type": "code",
   "execution_count": null,
   "id": "52be847e",
   "metadata": {},
   "outputs": [],
   "source": []
  },
  {
   "cell_type": "markdown",
   "id": "1604295c",
   "metadata": {},
   "source": [
    "## Analysis"
   ]
  },
  {
   "cell_type": "code",
   "execution_count": null,
   "id": "880fc4b6",
   "metadata": {},
   "outputs": [],
   "source": []
  },
  {
   "cell_type": "code",
   "execution_count": null,
   "id": "f8607f62",
   "metadata": {},
   "outputs": [],
   "source": []
  }
 ],
 "metadata": {
  "kernelspec": {
   "display_name": "Python 3 (ipykernel)",
   "language": "python",
   "name": "python3"
  },
  "language_info": {
   "codemirror_mode": {
    "name": "ipython",
    "version": 3
   },
   "file_extension": ".py",
   "mimetype": "text/x-python",
   "name": "python",
   "nbconvert_exporter": "python",
   "pygments_lexer": "ipython3",
   "version": "3.8.10"
  }
 },
 "nbformat": 4,
 "nbformat_minor": 5
}
