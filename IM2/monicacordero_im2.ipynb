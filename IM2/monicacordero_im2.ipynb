{
 "cells": [
  {
   "cell_type": "markdown",
   "id": "beb0105a",
   "metadata": {},
   "source": [
    "# Findings "
   ]
  },
  {
   "cell_type": "markdown",
   "id": "4fedabc7",
   "metadata": {},
   "source": []
  },
  {
   "cell_type": "markdown",
   "id": "d63601c6",
   "metadata": {},
   "source": [
    "# Set up"
   ]
  },
  {
   "cell_type": "code",
   "execution_count": 139,
   "id": "abfe67d3",
   "metadata": {},
   "outputs": [],
   "source": [
    "import requests\n",
    "import pandas as pd"
   ]
  },
  {
   "cell_type": "code",
   "execution_count": 140,
   "id": "37019212",
   "metadata": {},
   "outputs": [],
   "source": [
    "import numpy as np"
   ]
  },
  {
   "cell_type": "code",
   "execution_count": 141,
   "id": "3a37b74e",
   "metadata": {},
   "outputs": [],
   "source": [
    "from datetime import datetime\n",
    "from datetime import date"
   ]
  },
  {
   "cell_type": "markdown",
   "id": "5e670b8a",
   "metadata": {},
   "source": [
    "# Get and check the data"
   ]
  },
  {
   "cell_type": "code",
   "execution_count": 142,
   "id": "e72f7f52",
   "metadata": {},
   "outputs": [
    {
     "data": {
      "text/plain": [
       "'/Users/monicacordero/Documents/IM'"
      ]
     },
     "execution_count": 142,
     "metadata": {},
     "output_type": "execute_result"
    }
   ],
   "source": [
    "pwd"
   ]
  },
  {
   "cell_type": "code",
   "execution_count": 143,
   "id": "6f6edf5f",
   "metadata": {},
   "outputs": [
    {
     "data": {
      "text/html": [
       "<div>\n",
       "<style scoped>\n",
       "    .dataframe tbody tr th:only-of-type {\n",
       "        vertical-align: middle;\n",
       "    }\n",
       "\n",
       "    .dataframe tbody tr th {\n",
       "        vertical-align: top;\n",
       "    }\n",
       "\n",
       "    .dataframe thead th {\n",
       "        text-align: right;\n",
       "    }\n",
       "</style>\n",
       "<table border=\"1\" class=\"dataframe\">\n",
       "  <thead>\n",
       "    <tr style=\"text-align: right;\">\n",
       "      <th></th>\n",
       "      <th>summary_nr</th>\n",
       "      <th>line_nr</th>\n",
       "      <th>abstract_text</th>\n",
       "      <th>load_dt</th>\n",
       "    </tr>\n",
       "  </thead>\n",
       "  <tbody>\n",
       "    <tr>\n",
       "      <th>0</th>\n",
       "      <td>38083</td>\n",
       "      <td>1</td>\n",
       "      <td>An employee working for Asplundh Tree Expert C...</td>\n",
       "      <td>2019-07-22 00:19:26 EDT</td>\n",
       "    </tr>\n",
       "  </tbody>\n",
       "</table>\n",
       "</div>"
      ],
      "text/plain": [
       "   summary_nr  line_nr                                      abstract_text  \\\n",
       "0       38083        1  An employee working for Asplundh Tree Expert C...   \n",
       "\n",
       "                   load_dt  \n",
       "0  2019-07-22 00:19:26 EDT  "
      ]
     },
     "execution_count": 143,
     "metadata": {},
     "output_type": "execute_result"
    }
   ],
   "source": [
    "## osha accident abstract\n",
    "df2 = pd.read_csv(\"/Users/monicacordero/Documents/IM/osha_accident_abstract.csv\")\n",
    "df2.head(1)"
   ]
  },
  {
   "cell_type": "code",
   "execution_count": 144,
   "id": "fd9a8a70",
   "metadata": {},
   "outputs": [
    {
     "data": {
      "text/html": [
       "<div>\n",
       "<style scoped>\n",
       "    .dataframe tbody tr th:only-of-type {\n",
       "        vertical-align: middle;\n",
       "    }\n",
       "\n",
       "    .dataframe tbody tr th {\n",
       "        vertical-align: top;\n",
       "    }\n",
       "\n",
       "    .dataframe thead th {\n",
       "        text-align: right;\n",
       "    }\n",
       "</style>\n",
       "<table border=\"1\" class=\"dataframe\">\n",
       "  <thead>\n",
       "    <tr style=\"text-align: right;\">\n",
       "      <th></th>\n",
       "      <th>summary_nr</th>\n",
       "      <th>report_id</th>\n",
       "      <th>event_date</th>\n",
       "      <th>event_time</th>\n",
       "      <th>event_desc</th>\n",
       "      <th>event_keyword</th>\n",
       "      <th>const_end_use</th>\n",
       "      <th>build_stories</th>\n",
       "      <th>nonbuild_ht</th>\n",
       "      <th>project_cost</th>\n",
       "      <th>project_type</th>\n",
       "      <th>sic_list</th>\n",
       "      <th>fatality</th>\n",
       "      <th>state_flag</th>\n",
       "      <th>abstract_text</th>\n",
       "      <th>load_dt</th>\n",
       "    </tr>\n",
       "  </thead>\n",
       "  <tbody>\n",
       "    <tr>\n",
       "      <th>0</th>\n",
       "      <td>9407</td>\n",
       "      <td>112600</td>\n",
       "      <td>1984-03-25 00:00:00</td>\n",
       "      <td>NaN</td>\n",
       "      <td>NONE</td>\n",
       "      <td>NaN</td>\n",
       "      <td>NaN</td>\n",
       "      <td>NaN</td>\n",
       "      <td>NaN</td>\n",
       "      <td>NaN</td>\n",
       "      <td>NaN</td>\n",
       "      <td>2621</td>\n",
       "      <td>X</td>\n",
       "      <td>NaN</td>\n",
       "      <td>NaN</td>\n",
       "      <td>2019-07-22 00:18:27 EDT</td>\n",
       "    </tr>\n",
       "  </tbody>\n",
       "</table>\n",
       "</div>"
      ],
      "text/plain": [
       "   summary_nr  report_id           event_date  event_time event_desc  \\\n",
       "0        9407     112600  1984-03-25 00:00:00         NaN       NONE   \n",
       "\n",
       "  event_keyword const_end_use  build_stories  nonbuild_ht project_cost  \\\n",
       "0           NaN           NaN            NaN          NaN          NaN   \n",
       "\n",
       "  project_type sic_list fatality  state_flag  abstract_text  \\\n",
       "0          NaN     2621        X         NaN            NaN   \n",
       "\n",
       "                   load_dt  \n",
       "0  2019-07-22 00:18:27 EDT  "
      ]
     },
     "execution_count": 144,
     "metadata": {},
     "output_type": "execute_result"
    }
   ],
   "source": [
    "# osha accident df.describe() me da mean, min\n",
    "df= pd.read_csv(\"osha_accident.csv\")\n",
    "df.head(1)"
   ]
  },
  {
   "cell_type": "code",
   "execution_count": 145,
   "id": "b5f5a853",
   "metadata": {},
   "outputs": [
    {
     "data": {
      "text/plain": [
       "(142981, 16)"
      ]
     },
     "execution_count": 145,
     "metadata": {},
     "output_type": "execute_result"
    }
   ],
   "source": [
    "# number of rows and column types\n",
    "df.shape"
   ]
  },
  {
   "cell_type": "code",
   "execution_count": 146,
   "id": "fa4f425e",
   "metadata": {},
   "outputs": [
    {
     "name": "stdout",
     "output_type": "stream",
     "text": [
      "<class 'pandas.core.frame.DataFrame'>\n",
      "RangeIndex: 142981 entries, 0 to 142980\n",
      "Data columns (total 16 columns):\n",
      " #   Column         Non-Null Count   Dtype  \n",
      "---  ------         --------------   -----  \n",
      " 0   summary_nr     142981 non-null  int64  \n",
      " 1   report_id      142981 non-null  int64  \n",
      " 2   event_date     142981 non-null  object \n",
      " 3   event_time     0 non-null       float64\n",
      " 4   event_desc     142979 non-null  object \n",
      " 5   event_keyword  142713 non-null  object \n",
      " 6   const_end_use  30759 non-null   object \n",
      " 7   build_stories  21528 non-null   float64\n",
      " 8   nonbuild_ht    15317 non-null   float64\n",
      " 9   project_cost   25498 non-null   object \n",
      " 10  project_type   31130 non-null   object \n",
      " 11  sic_list       109089 non-null  object \n",
      " 12  fatality       64554 non-null   object \n",
      " 13  state_flag     0 non-null       float64\n",
      " 14  abstract_text  0 non-null       float64\n",
      " 15  load_dt        142981 non-null  object \n",
      "dtypes: float64(5), int64(2), object(9)\n",
      "memory usage: 17.5+ MB\n"
     ]
    }
   ],
   "source": [
    "## Cheking Columns, Non-Null, type\n",
    "df.info()"
   ]
  },
  {
   "cell_type": "code",
   "execution_count": 147,
   "id": "765e18fd",
   "metadata": {},
   "outputs": [],
   "source": [
    "## checking and filter by event_date column \n",
    "df.sort_values(by = [\"event_date\"],ascending = False)\n",
    "df[\"event_date\"] = pd.to_datetime(df[\"event_date\"])\n",
    "df_filtered = df[df[\"event_date\"]>\"2016-1-1\"]\n"
   ]
  },
  {
   "cell_type": "code",
   "execution_count": 166,
   "id": "da84b767",
   "metadata": {},
   "outputs": [
    {
     "data": {
      "text/html": [
       "<div>\n",
       "<style scoped>\n",
       "    .dataframe tbody tr th:only-of-type {\n",
       "        vertical-align: middle;\n",
       "    }\n",
       "\n",
       "    .dataframe tbody tr th {\n",
       "        vertical-align: top;\n",
       "    }\n",
       "\n",
       "    .dataframe thead th {\n",
       "        text-align: right;\n",
       "    }\n",
       "</style>\n",
       "<table border=\"1\" class=\"dataframe\">\n",
       "  <thead>\n",
       "    <tr style=\"text-align: right;\">\n",
       "      <th></th>\n",
       "      <th>summary_nr</th>\n",
       "      <th>report_id</th>\n",
       "      <th>event_date</th>\n",
       "      <th>event_time</th>\n",
       "      <th>event_desc</th>\n",
       "      <th>event_keyword</th>\n",
       "      <th>const_end_use</th>\n",
       "      <th>build_stories</th>\n",
       "      <th>nonbuild_ht</th>\n",
       "      <th>project_cost</th>\n",
       "      <th>project_type</th>\n",
       "      <th>sic_list</th>\n",
       "      <th>fatality</th>\n",
       "      <th>state_flag</th>\n",
       "      <th>abstract_text</th>\n",
       "      <th>load_dt</th>\n",
       "      <th>event_year</th>\n",
       "      <th>event_month</th>\n",
       "    </tr>\n",
       "  </thead>\n",
       "  <tbody>\n",
       "    <tr>\n",
       "      <th>112699</th>\n",
       "      <td>220819726</td>\n",
       "      <td>521700</td>\n",
       "      <td>2016-01-02</td>\n",
       "      <td>NaN</td>\n",
       "      <td>EMPLOYEE IS CRUSHED WHEN A CONCRETE WALL FALLS</td>\n",
       "      <td>COLLAPSE,CONCRETE,CRUSHED,WALL</td>\n",
       "      <td>C</td>\n",
       "      <td>1.0</td>\n",
       "      <td>15.0</td>\n",
       "      <td>A</td>\n",
       "      <td>B</td>\n",
       "      <td>NaN</td>\n",
       "      <td>X</td>\n",
       "      <td>NaN</td>\n",
       "      <td>NaN</td>\n",
       "      <td>2022-03-20 00:18:48 EDT</td>\n",
       "      <td>2016</td>\n",
       "      <td>1</td>\n",
       "    </tr>\n",
       "    <tr>\n",
       "      <th>112718</th>\n",
       "      <td>220820799</td>\n",
       "      <td>830600</td>\n",
       "      <td>2016-01-02</td>\n",
       "      <td>NaN</td>\n",
       "      <td>WORKER IS KILLED IN OFFICE BUILDING FIRE</td>\n",
       "      <td>FIRE,OFFICE AREA,SMOKE,SMOKE INHALATION</td>\n",
       "      <td>NaN</td>\n",
       "      <td>NaN</td>\n",
       "      <td>NaN</td>\n",
       "      <td>NaN</td>\n",
       "      <td>NaN</td>\n",
       "      <td>NaN</td>\n",
       "      <td>X</td>\n",
       "      <td>NaN</td>\n",
       "      <td>NaN</td>\n",
       "      <td>2022-03-20 00:18:47 EDT</td>\n",
       "      <td>2016</td>\n",
       "      <td>1</td>\n",
       "    </tr>\n",
       "  </tbody>\n",
       "</table>\n",
       "</div>"
      ],
      "text/plain": [
       "        summary_nr  report_id event_date  event_time  \\\n",
       "112699   220819726     521700 2016-01-02         NaN   \n",
       "112718   220820799     830600 2016-01-02         NaN   \n",
       "\n",
       "                                            event_desc  \\\n",
       "112699  EMPLOYEE IS CRUSHED WHEN A CONCRETE WALL FALLS   \n",
       "112718        WORKER IS KILLED IN OFFICE BUILDING FIRE   \n",
       "\n",
       "                                  event_keyword const_end_use  build_stories  \\\n",
       "112699           COLLAPSE,CONCRETE,CRUSHED,WALL             C            1.0   \n",
       "112718  FIRE,OFFICE AREA,SMOKE,SMOKE INHALATION           NaN            NaN   \n",
       "\n",
       "        nonbuild_ht project_cost project_type sic_list fatality  state_flag  \\\n",
       "112699         15.0            A            B      NaN        X         NaN   \n",
       "112718          NaN          NaN          NaN      NaN        X         NaN   \n",
       "\n",
       "        abstract_text                  load_dt  event_year  event_month  \n",
       "112699            NaN  2022-03-20 00:18:48 EDT        2016            1  \n",
       "112718            NaN  2022-03-20 00:18:47 EDT        2016            1  "
      ]
     },
     "execution_count": 166,
     "metadata": {},
     "output_type": "execute_result"
    }
   ],
   "source": [
    "df_filtered.sort_values(by=[\"event_date\"]).head(2)\n"
   ]
  },
  {
   "cell_type": "code",
   "execution_count": 149,
   "id": "954644b2",
   "metadata": {},
   "outputs": [],
   "source": [
    "# extract year and month"
   ]
  },
  {
   "cell_type": "code",
   "execution_count": 150,
   "id": "50fe16d2",
   "metadata": {},
   "outputs": [
    {
     "name": "stderr",
     "output_type": "stream",
     "text": [
      "/Users/monicacordero/.pyenv/versions/3.8.10/lib/python3.8/site-packages/pandas-1.4.0.dev0+143.g5675cd8ab2-py3.8-macosx-11.3-arm64.egg/pandas/core/frame.py:3602: SettingWithCopyWarning: \n",
      "A value is trying to be set on a copy of a slice from a DataFrame.\n",
      "Try using .loc[row_indexer,col_indexer] = value instead\n",
      "\n",
      "See the caveats in the documentation: https://pandas.pydata.org/pandas-docs/stable/user_guide/indexing.html#returning-a-view-versus-a-copy\n",
      "  self._set_item(key, value)\n",
      "/Users/monicacordero/.pyenv/versions/3.8.10/lib/python3.8/site-packages/pandas-1.4.0.dev0+143.g5675cd8ab2-py3.8-macosx-11.3-arm64.egg/pandas/core/frame.py:3602: SettingWithCopyWarning: \n",
      "A value is trying to be set on a copy of a slice from a DataFrame.\n",
      "Try using .loc[row_indexer,col_indexer] = value instead\n",
      "\n",
      "See the caveats in the documentation: https://pandas.pydata.org/pandas-docs/stable/user_guide/indexing.html#returning-a-view-versus-a-copy\n",
      "  self._set_item(key, value)\n"
     ]
    }
   ],
   "source": [
    "df_filtered[\"event_year\"] = pd.to_datetime(df[\"event_date\"]).dt.year\n",
    "df_filtered[\"event_month\"] = pd.to_datetime(df[\"event_date\"]).dt.month"
   ]
  },
  {
   "cell_type": "code",
   "execution_count": 157,
   "id": "a64c6eed",
   "metadata": {},
   "outputs": [
    {
     "data": {
      "text/plain": [
       "(29258, 18)"
      ]
     },
     "execution_count": 157,
     "metadata": {},
     "output_type": "execute_result"
    }
   ],
   "source": [
    "df_filtered.shape"
   ]
  },
  {
   "cell_type": "code",
   "execution_count": 158,
   "id": "ae100003",
   "metadata": {},
   "outputs": [
    {
     "data": {
      "text/plain": [
       "summary_nr                int64\n",
       "report_id                 int64\n",
       "event_date       datetime64[ns]\n",
       "event_time              float64\n",
       "event_desc               object\n",
       "event_keyword            object\n",
       "const_end_use            object\n",
       "build_stories           float64\n",
       "nonbuild_ht             float64\n",
       "project_cost             object\n",
       "project_type             object\n",
       "sic_list                 object\n",
       "fatality                 object\n",
       "state_flag              float64\n",
       "abstract_text           float64\n",
       "load_dt                  object\n",
       "event_year                int64\n",
       "event_month               int64\n",
       "dtype: object"
      ]
     },
     "execution_count": 158,
     "metadata": {},
     "output_type": "execute_result"
    }
   ],
   "source": [
    "df_filtered.dtypes"
   ]
  },
  {
   "cell_type": "markdown",
   "id": "7f30f34a",
   "metadata": {},
   "source": [
    "## Checking "
   ]
  },
  {
   "cell_type": "markdown",
   "id": "56fbb19e",
   "metadata": {},
   "source": [
    "### Ten most common events since 2016"
   ]
  },
  {
   "cell_type": "code",
   "execution_count": 159,
   "id": "683c497c",
   "metadata": {},
   "outputs": [
    {
     "data": {
      "text/plain": [
       "EMPLOYEE WITH COVID-19 INFECTION DIES               1232\n",
       "EMPLOYEE WITH COVID-19 INFECTION IS HOSPITALIZED     146\n",
       "EMPLOYEE FALLS FROM ROOF AND IS KILLED               110\n",
       "EMPLOYEE IS KILLED IN FALL FROM ROOF                  94\n",
       "EMPLOYEE FALLS FROM LADDER AND IS KILLED              90\n",
       "EMPLOYEE DIES FROM HEART ATTACK                       66\n",
       "EMPLOYEE IS KILLED IN FALL FROM LADDER                50\n",
       "EMPLOYEE FALLS FROM SCAFFOLD AND IS KILLED            43\n",
       "EMPLOYEE FALLS THROUGH SKYLIGHT AND IS KILLED         37\n",
       "EMPLOYEE IS STRUCK AND KILLED BY MOTOR VEHICLE        29\n",
       "Name: event_desc, dtype: int64"
      ]
     },
     "execution_count": 159,
     "metadata": {},
     "output_type": "execute_result"
    }
   ],
   "source": [
    "df_filtered[\"event_desc\"].value_counts().head(10)"
   ]
  },
  {
   "cell_type": "markdown",
   "id": "4320bc22",
   "metadata": {},
   "source": [
    "### Event per year"
   ]
  },
  {
   "cell_type": "code",
   "execution_count": 162,
   "id": "97aef79d",
   "metadata": {},
   "outputs": [
    {
     "data": {
      "text/plain": [
       "event_year\n",
       "2016    1757\n",
       "2017    8839\n",
       "2018    9086\n",
       "2019    4967\n",
       "2020    3143\n",
       "2021    1465\n",
       "2022       1\n",
       "Name: event_desc, dtype: int64"
      ]
     },
     "execution_count": 162,
     "metadata": {},
     "output_type": "execute_result"
    }
   ],
   "source": [
    "# df_filtered[\"event_desc\"].value_counts().head(10)\n",
    "df_filtered.groupby(\"event_year\")[\"event_desc\"].count()"
   ]
  },
  {
   "cell_type": "code",
   "execution_count": 165,
   "id": "ac291faa",
   "metadata": {},
   "outputs": [
    {
     "data": {
      "text/plain": [
       "event_year\n",
       "2016    1757\n",
       "2017    8839\n",
       "2018    9086\n",
       "2019    4967\n",
       "2020    3143\n",
       "2021    1465\n",
       "2022       1\n",
       "Name: summary_nr, dtype: int64"
      ]
     },
     "execution_count": 165,
     "metadata": {},
     "output_type": "execute_result"
    }
   ],
   "source": [
    "## fact checking using summary_nr vs event_desc \n",
    "##### FALTA variacion \n",
    "df_filtered.groupby(\"event_year\")[\"summary_nr\"].count()"
   ]
  },
  {
   "cell_type": "code",
   "execution_count": null,
   "id": "c5ea7d5e",
   "metadata": {},
   "outputs": [],
   "source": []
  },
  {
   "cell_type": "code",
   "execution_count": null,
   "id": "b72f3cd0",
   "metadata": {},
   "outputs": [],
   "source": []
  }
 ],
 "metadata": {
  "kernelspec": {
   "display_name": "Python 3 (ipykernel)",
   "language": "python",
   "name": "python3"
  },
  "language_info": {
   "codemirror_mode": {
    "name": "ipython",
    "version": 3
   },
   "file_extension": ".py",
   "mimetype": "text/x-python",
   "name": "python",
   "nbconvert_exporter": "python",
   "pygments_lexer": "ipython3",
   "version": "3.8.10"
  }
 },
 "nbformat": 4,
 "nbformat_minor": 5
}
