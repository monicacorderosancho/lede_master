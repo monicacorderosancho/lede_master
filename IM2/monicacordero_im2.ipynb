{
 "cells": [
  {
   "cell_type": "markdown",
   "id": "d63601c6",
   "metadata": {},
   "source": [
    "# Set up"
   ]
  },
  {
   "cell_type": "code",
   "execution_count": 31,
   "id": "abfe67d3",
   "metadata": {},
   "outputs": [],
   "source": [
    "import requests\n",
    "import pandas as pd"
   ]
  },
  {
   "cell_type": "code",
   "execution_count": 32,
   "id": "37019212",
   "metadata": {},
   "outputs": [],
   "source": [
    "import numpy as np"
   ]
  },
  {
   "cell_type": "code",
   "execution_count": 33,
   "id": "3a37b74e",
   "metadata": {},
   "outputs": [],
   "source": [
    "from datetime import datetime\n",
    "from datetime import date"
   ]
  },
  {
   "cell_type": "markdown",
   "id": "5e670b8a",
   "metadata": {},
   "source": [
    "### Get the data | OSHA accidents"
   ]
  },
  {
   "cell_type": "code",
   "execution_count": 34,
   "id": "e72f7f52",
   "metadata": {},
   "outputs": [
    {
     "data": {
      "text/plain": [
       "'/Users/monicacordero/Documents/lede_master/IM2'"
      ]
     },
     "execution_count": 34,
     "metadata": {},
     "output_type": "execute_result"
    }
   ],
   "source": [
    "pwd"
   ]
  },
  {
   "cell_type": "markdown",
   "id": "70d3d0cd",
   "metadata": {},
   "source": [
    "### OSHA accidents "
   ]
  },
  {
   "cell_type": "code",
   "execution_count": 53,
   "id": "fd9a8a70",
   "metadata": {},
   "outputs": [
    {
     "data": {
      "text/html": [
       "<div>\n",
       "<style scoped>\n",
       "    .dataframe tbody tr th:only-of-type {\n",
       "        vertical-align: middle;\n",
       "    }\n",
       "\n",
       "    .dataframe tbody tr th {\n",
       "        vertical-align: top;\n",
       "    }\n",
       "\n",
       "    .dataframe thead th {\n",
       "        text-align: right;\n",
       "    }\n",
       "</style>\n",
       "<table border=\"1\" class=\"dataframe\">\n",
       "  <thead>\n",
       "    <tr style=\"text-align: right;\">\n",
       "      <th></th>\n",
       "      <th>summary_nr</th>\n",
       "      <th>report_id</th>\n",
       "      <th>event_date</th>\n",
       "      <th>event_time</th>\n",
       "      <th>event_desc</th>\n",
       "      <th>event_keyword</th>\n",
       "      <th>const_end_use</th>\n",
       "      <th>build_stories</th>\n",
       "      <th>nonbuild_ht</th>\n",
       "      <th>project_cost</th>\n",
       "      <th>project_type</th>\n",
       "      <th>sic_list</th>\n",
       "      <th>fatality</th>\n",
       "      <th>state_flag</th>\n",
       "      <th>abstract_text</th>\n",
       "      <th>load_dt</th>\n",
       "    </tr>\n",
       "  </thead>\n",
       "  <tbody>\n",
       "    <tr>\n",
       "      <th>0</th>\n",
       "      <td>9407</td>\n",
       "      <td>112600</td>\n",
       "      <td>1984-03-25 00:00:00</td>\n",
       "      <td>NaN</td>\n",
       "      <td>NONE</td>\n",
       "      <td>NaN</td>\n",
       "      <td>NaN</td>\n",
       "      <td>NaN</td>\n",
       "      <td>NaN</td>\n",
       "      <td>NaN</td>\n",
       "      <td>NaN</td>\n",
       "      <td>2621</td>\n",
       "      <td>X</td>\n",
       "      <td>NaN</td>\n",
       "      <td>NaN</td>\n",
       "      <td>2019-07-22 00:18:27 EDT</td>\n",
       "    </tr>\n",
       "  </tbody>\n",
       "</table>\n",
       "</div>"
      ],
      "text/plain": [
       "   summary_nr  report_id           event_date  event_time event_desc  \\\n",
       "0        9407     112600  1984-03-25 00:00:00         NaN       NONE   \n",
       "\n",
       "  event_keyword const_end_use  build_stories  nonbuild_ht project_cost  \\\n",
       "0           NaN           NaN            NaN          NaN          NaN   \n",
       "\n",
       "  project_type sic_list fatality  state_flag  abstract_text  \\\n",
       "0          NaN     2621        X         NaN            NaN   \n",
       "\n",
       "                   load_dt  \n",
       "0  2019-07-22 00:18:27 EDT  "
      ]
     },
     "execution_count": 53,
     "metadata": {},
     "output_type": "execute_result"
    }
   ],
   "source": [
    "# osha accident df.describe() me da mean, min\n",
    "df= pd.read_csv(\"osha_accident.csv\")\n",
    "df.head(1)"
   ]
  },
  {
   "cell_type": "code",
   "execution_count": 54,
   "id": "b5f5a853",
   "metadata": {},
   "outputs": [
    {
     "data": {
      "text/plain": [
       "(142981, 16)"
      ]
     },
     "execution_count": 54,
     "metadata": {},
     "output_type": "execute_result"
    }
   ],
   "source": [
    "# number of rows and column types\n",
    "df.shape"
   ]
  },
  {
   "cell_type": "code",
   "execution_count": 38,
   "id": "fa4f425e",
   "metadata": {},
   "outputs": [
    {
     "name": "stdout",
     "output_type": "stream",
     "text": [
      "<class 'pandas.core.frame.DataFrame'>\n",
      "RangeIndex: 142981 entries, 0 to 142980\n",
      "Data columns (total 16 columns):\n",
      " #   Column         Non-Null Count   Dtype  \n",
      "---  ------         --------------   -----  \n",
      " 0   summary_nr     142981 non-null  int64  \n",
      " 1   report_id      142981 non-null  int64  \n",
      " 2   event_date     142981 non-null  object \n",
      " 3   event_time     0 non-null       float64\n",
      " 4   event_desc     142979 non-null  object \n",
      " 5   event_keyword  142713 non-null  object \n",
      " 6   const_end_use  30759 non-null   object \n",
      " 7   build_stories  21528 non-null   float64\n",
      " 8   nonbuild_ht    15317 non-null   float64\n",
      " 9   project_cost   25498 non-null   object \n",
      " 10  project_type   31130 non-null   object \n",
      " 11  sic_list       109089 non-null  object \n",
      " 12  fatality       64554 non-null   object \n",
      " 13  state_flag     0 non-null       float64\n",
      " 14  abstract_text  0 non-null       float64\n",
      " 15  load_dt        142981 non-null  object \n",
      "dtypes: float64(5), int64(2), object(9)\n",
      "memory usage: 17.5+ MB\n"
     ]
    }
   ],
   "source": [
    "## Cheking Columns, Non-Null, type\n",
    "df.info()"
   ]
  },
  {
   "cell_type": "code",
   "execution_count": 39,
   "id": "765e18fd",
   "metadata": {},
   "outputs": [],
   "source": [
    "## checking and filter by event_date column \n",
    "df.sort_values(by = [\"event_date\"],ascending = False)\n",
    "df[\"event_date\"] = pd.to_datetime(df[\"event_date\"])\n",
    "df_filtered = df[df[\"event_date\"]>\"2017-1-1\"]\n"
   ]
  },
  {
   "cell_type": "code",
   "execution_count": 55,
   "id": "b0886143",
   "metadata": {},
   "outputs": [
    {
     "data": {
      "text/html": [
       "<div>\n",
       "<style scoped>\n",
       "    .dataframe tbody tr th:only-of-type {\n",
       "        vertical-align: middle;\n",
       "    }\n",
       "\n",
       "    .dataframe tbody tr th {\n",
       "        vertical-align: top;\n",
       "    }\n",
       "\n",
       "    .dataframe thead th {\n",
       "        text-align: right;\n",
       "    }\n",
       "</style>\n",
       "<table border=\"1\" class=\"dataframe\">\n",
       "  <thead>\n",
       "    <tr style=\"text-align: right;\">\n",
       "      <th></th>\n",
       "      <th>summary_nr</th>\n",
       "      <th>report_id</th>\n",
       "      <th>event_date</th>\n",
       "      <th>event_time</th>\n",
       "      <th>event_desc</th>\n",
       "      <th>event_keyword</th>\n",
       "      <th>const_end_use</th>\n",
       "      <th>build_stories</th>\n",
       "      <th>nonbuild_ht</th>\n",
       "      <th>project_cost</th>\n",
       "      <th>project_type</th>\n",
       "      <th>sic_list</th>\n",
       "      <th>fatality</th>\n",
       "      <th>state_flag</th>\n",
       "      <th>abstract_text</th>\n",
       "      <th>load_dt</th>\n",
       "      <th>event_year</th>\n",
       "      <th>event_month</th>\n",
       "    </tr>\n",
       "  </thead>\n",
       "  <tbody>\n",
       "    <tr>\n",
       "      <th>114381</th>\n",
       "      <td>220915433</td>\n",
       "      <td>111400</td>\n",
       "      <td>2017-03-15</td>\n",
       "      <td>NaN</td>\n",
       "      <td>EMPLOYEE KILLED IN DIVING ACCIDENT</td>\n",
       "      <td>ASPHYXIATED,DIVER,DROWN,EMERGENCY RESPONSE,HOI...</td>\n",
       "      <td>NaN</td>\n",
       "      <td>NaN</td>\n",
       "      <td>NaN</td>\n",
       "      <td>NaN</td>\n",
       "      <td>NaN</td>\n",
       "      <td>NaN</td>\n",
       "      <td>X</td>\n",
       "      <td>NaN</td>\n",
       "      <td>NaN</td>\n",
       "      <td>2022-03-20 00:18:48 EDT</td>\n",
       "      <td>2017</td>\n",
       "      <td>3</td>\n",
       "    </tr>\n",
       "    <tr>\n",
       "      <th>114421</th>\n",
       "      <td>220917504</td>\n",
       "      <td>420600</td>\n",
       "      <td>2017-01-09</td>\n",
       "      <td>NaN</td>\n",
       "      <td>EMPLOYEE FRACTURES FINGER WHEN HIS FINGER IS C...</td>\n",
       "      <td>CAUGHT BETWEEN,EQUIPMENT OPERATOR,FINGER,FRACT...</td>\n",
       "      <td>NaN</td>\n",
       "      <td>NaN</td>\n",
       "      <td>NaN</td>\n",
       "      <td>NaN</td>\n",
       "      <td>NaN</td>\n",
       "      <td>NaN</td>\n",
       "      <td>NaN</td>\n",
       "      <td>NaN</td>\n",
       "      <td>NaN</td>\n",
       "      <td>2022-03-20 00:18:47 EDT</td>\n",
       "      <td>2017</td>\n",
       "      <td>1</td>\n",
       "    </tr>\n",
       "  </tbody>\n",
       "</table>\n",
       "</div>"
      ],
      "text/plain": [
       "        summary_nr  report_id event_date  event_time  \\\n",
       "114381   220915433     111400 2017-03-15         NaN   \n",
       "114421   220917504     420600 2017-01-09         NaN   \n",
       "\n",
       "                                               event_desc  \\\n",
       "114381                 EMPLOYEE KILLED IN DIVING ACCIDENT   \n",
       "114421  EMPLOYEE FRACTURES FINGER WHEN HIS FINGER IS C...   \n",
       "\n",
       "                                            event_keyword const_end_use  \\\n",
       "114381  ASPHYXIATED,DIVER,DROWN,EMERGENCY RESPONSE,HOI...           NaN   \n",
       "114421  CAUGHT BETWEEN,EQUIPMENT OPERATOR,FINGER,FRACT...           NaN   \n",
       "\n",
       "        build_stories  nonbuild_ht project_cost project_type sic_list  \\\n",
       "114381            NaN          NaN          NaN          NaN      NaN   \n",
       "114421            NaN          NaN          NaN          NaN      NaN   \n",
       "\n",
       "       fatality  state_flag  abstract_text                  load_dt  \\\n",
       "114381        X         NaN            NaN  2022-03-20 00:18:48 EDT   \n",
       "114421      NaN         NaN            NaN  2022-03-20 00:18:47 EDT   \n",
       "\n",
       "        event_year  event_month  \n",
       "114381        2017            3  \n",
       "114421        2017            1  "
      ]
     },
     "execution_count": 55,
     "metadata": {},
     "output_type": "execute_result"
    }
   ],
   "source": [
    "df_filtered.head(2)"
   ]
  },
  {
   "cell_type": "code",
   "execution_count": 40,
   "id": "da84b767",
   "metadata": {},
   "outputs": [
    {
     "data": {
      "text/html": [
       "<div>\n",
       "<style scoped>\n",
       "    .dataframe tbody tr th:only-of-type {\n",
       "        vertical-align: middle;\n",
       "    }\n",
       "\n",
       "    .dataframe tbody tr th {\n",
       "        vertical-align: top;\n",
       "    }\n",
       "\n",
       "    .dataframe thead th {\n",
       "        text-align: right;\n",
       "    }\n",
       "</style>\n",
       "<table border=\"1\" class=\"dataframe\">\n",
       "  <thead>\n",
       "    <tr style=\"text-align: right;\">\n",
       "      <th></th>\n",
       "      <th>summary_nr</th>\n",
       "      <th>report_id</th>\n",
       "      <th>event_date</th>\n",
       "      <th>event_time</th>\n",
       "      <th>event_desc</th>\n",
       "      <th>event_keyword</th>\n",
       "      <th>const_end_use</th>\n",
       "      <th>build_stories</th>\n",
       "      <th>nonbuild_ht</th>\n",
       "      <th>project_cost</th>\n",
       "      <th>project_type</th>\n",
       "      <th>sic_list</th>\n",
       "      <th>fatality</th>\n",
       "      <th>state_flag</th>\n",
       "      <th>abstract_text</th>\n",
       "      <th>load_dt</th>\n",
       "    </tr>\n",
       "  </thead>\n",
       "  <tbody>\n",
       "    <tr>\n",
       "      <th>117821</th>\n",
       "      <td>220966246</td>\n",
       "      <td>552652</td>\n",
       "      <td>2017-01-02</td>\n",
       "      <td>NaN</td>\n",
       "      <td>EMPLOYEE'S LEFT INDEX AND MIDDLE FINGER TIPS A...</td>\n",
       "      <td>AMPUTATED,CHAIN,CONVEYOR,FINGER,HAND,MACHINE G...</td>\n",
       "      <td>NaN</td>\n",
       "      <td>NaN</td>\n",
       "      <td>NaN</td>\n",
       "      <td>NaN</td>\n",
       "      <td>NaN</td>\n",
       "      <td>NaN</td>\n",
       "      <td>NaN</td>\n",
       "      <td>NaN</td>\n",
       "      <td>NaN</td>\n",
       "      <td>2022-03-20 00:18:47 EDT</td>\n",
       "    </tr>\n",
       "    <tr>\n",
       "      <th>114646</th>\n",
       "      <td>220923155</td>\n",
       "      <td>317500</td>\n",
       "      <td>2017-01-02</td>\n",
       "      <td>NaN</td>\n",
       "      <td>EMPLOYEE PINCHES FINGER THEN FAINTS STRIKING H...</td>\n",
       "      <td>CAUGHT BETWEEN,CAUGHT IN,CONCUSSION,FAINTED,FI...</td>\n",
       "      <td>NaN</td>\n",
       "      <td>NaN</td>\n",
       "      <td>NaN</td>\n",
       "      <td>NaN</td>\n",
       "      <td>NaN</td>\n",
       "      <td>NaN</td>\n",
       "      <td>NaN</td>\n",
       "      <td>NaN</td>\n",
       "      <td>NaN</td>\n",
       "      <td>2022-03-20 00:18:46 EDT</td>\n",
       "    </tr>\n",
       "  </tbody>\n",
       "</table>\n",
       "</div>"
      ],
      "text/plain": [
       "        summary_nr  report_id event_date  event_time  \\\n",
       "117821   220966246     552652 2017-01-02         NaN   \n",
       "114646   220923155     317500 2017-01-02         NaN   \n",
       "\n",
       "                                               event_desc  \\\n",
       "117821  EMPLOYEE'S LEFT INDEX AND MIDDLE FINGER TIPS A...   \n",
       "114646  EMPLOYEE PINCHES FINGER THEN FAINTS STRIKING H...   \n",
       "\n",
       "                                            event_keyword const_end_use  \\\n",
       "117821  AMPUTATED,CHAIN,CONVEYOR,FINGER,HAND,MACHINE G...           NaN   \n",
       "114646  CAUGHT BETWEEN,CAUGHT IN,CONCUSSION,FAINTED,FI...           NaN   \n",
       "\n",
       "        build_stories  nonbuild_ht project_cost project_type sic_list  \\\n",
       "117821            NaN          NaN          NaN          NaN      NaN   \n",
       "114646            NaN          NaN          NaN          NaN      NaN   \n",
       "\n",
       "       fatality  state_flag  abstract_text                  load_dt  \n",
       "117821      NaN         NaN            NaN  2022-03-20 00:18:47 EDT  \n",
       "114646      NaN         NaN            NaN  2022-03-20 00:18:46 EDT  "
      ]
     },
     "execution_count": 40,
     "metadata": {},
     "output_type": "execute_result"
    }
   ],
   "source": [
    "df_filtered.sort_values(by=[\"event_date\"]).head(2)\n"
   ]
  },
  {
   "cell_type": "code",
   "execution_count": 41,
   "id": "954644b2",
   "metadata": {},
   "outputs": [],
   "source": [
    "# extract year and month"
   ]
  },
  {
   "cell_type": "code",
   "execution_count": 42,
   "id": "50fe16d2",
   "metadata": {},
   "outputs": [
    {
     "name": "stderr",
     "output_type": "stream",
     "text": [
      "/Users/monicacordero/.pyenv/versions/3.8.10/lib/python3.8/site-packages/pandas-1.4.0.dev0+143.g5675cd8ab2-py3.8-macosx-11.3-arm64.egg/pandas/core/frame.py:3602: SettingWithCopyWarning: \n",
      "A value is trying to be set on a copy of a slice from a DataFrame.\n",
      "Try using .loc[row_indexer,col_indexer] = value instead\n",
      "\n",
      "See the caveats in the documentation: https://pandas.pydata.org/pandas-docs/stable/user_guide/indexing.html#returning-a-view-versus-a-copy\n",
      "  self._set_item(key, value)\n",
      "/Users/monicacordero/.pyenv/versions/3.8.10/lib/python3.8/site-packages/pandas-1.4.0.dev0+143.g5675cd8ab2-py3.8-macosx-11.3-arm64.egg/pandas/core/frame.py:3602: SettingWithCopyWarning: \n",
      "A value is trying to be set on a copy of a slice from a DataFrame.\n",
      "Try using .loc[row_indexer,col_indexer] = value instead\n",
      "\n",
      "See the caveats in the documentation: https://pandas.pydata.org/pandas-docs/stable/user_guide/indexing.html#returning-a-view-versus-a-copy\n",
      "  self._set_item(key, value)\n"
     ]
    }
   ],
   "source": [
    "df_filtered[\"event_year\"] = pd.to_datetime(df[\"event_date\"]).dt.year\n",
    "df_filtered[\"event_month\"] = pd.to_datetime(df[\"event_date\"]).dt.month"
   ]
  },
  {
   "cell_type": "code",
   "execution_count": 43,
   "id": "a64c6eed",
   "metadata": {},
   "outputs": [
    {
     "data": {
      "text/plain": [
       "(27497, 18)"
      ]
     },
     "execution_count": 43,
     "metadata": {},
     "output_type": "execute_result"
    }
   ],
   "source": [
    "df_filtered.shape"
   ]
  },
  {
   "cell_type": "code",
   "execution_count": 44,
   "id": "ae100003",
   "metadata": {},
   "outputs": [
    {
     "data": {
      "text/plain": [
       "summary_nr                int64\n",
       "report_id                 int64\n",
       "event_date       datetime64[ns]\n",
       "event_time              float64\n",
       "event_desc               object\n",
       "event_keyword            object\n",
       "const_end_use            object\n",
       "build_stories           float64\n",
       "nonbuild_ht             float64\n",
       "project_cost             object\n",
       "project_type             object\n",
       "sic_list                 object\n",
       "fatality                 object\n",
       "state_flag              float64\n",
       "abstract_text           float64\n",
       "load_dt                  object\n",
       "event_year                int64\n",
       "event_month               int64\n",
       "dtype: object"
      ]
     },
     "execution_count": 44,
     "metadata": {},
     "output_type": "execute_result"
    }
   ],
   "source": [
    "df_filtered.dtypes"
   ]
  },
  {
   "cell_type": "markdown",
   "id": "7f30f34a",
   "metadata": {},
   "source": [
    "### Interrogating the data "
   ]
  },
  {
   "cell_type": "markdown",
   "id": "56fbb19e",
   "metadata": {},
   "source": [
    "#### Most common events | 2017 - 2021"
   ]
  },
  {
   "cell_type": "code",
   "execution_count": 72,
   "id": "683c497c",
   "metadata": {
    "scrolled": true
   },
   "outputs": [
    {
     "data": {
      "text/plain": [
       "EMPLOYEE WITH COVID-19 INFECTION DIES                    1232\n",
       "EMPLOYEE WITH COVID-19 INFECTION IS HOSPITALIZED          146\n",
       "EMPLOYEE FALLS FROM ROOF AND IS KILLED                     91\n",
       "EMPLOYEE IS KILLED IN FALL FROM ROOF                       83\n",
       "EMPLOYEE FALLS FROM LADDER AND IS KILLED                   61\n",
       "EMPLOYEE DIES FROM HEART ATTACK                            46\n",
       "EMPLOYEE IS KILLED IN FALL FROM LADDER                     46\n",
       "EMPLOYEE FALLS FROM SCAFFOLD AND IS KILLED                 32\n",
       "EMPLOYEE FALLS THROUGH SKYLIGHT AND IS KILLED              31\n",
       "EMPLOYEE IS STRUCK AND KILLED BY MOTOR VEHICLE             27\n",
       "EMPLOYEE IS INJURED IN FALL FROM LADDER                    24\n",
       "EMPLOYEE SUFFERS HEART ATTACK AND DIES                     24\n",
       "EMPLOYEE FALLS FROM LADDER AND FRACTURES LEG               24\n",
       "EMPLOYEE FALLS FROM LADDER AND IS INJURED                  23\n",
       "EMPLOYEE IS KILLED IN TRENCH COLLAPSE                      22\n",
       "EMPLOYEE IS INJURED IN FALL FROM ROOF                      21\n",
       "EMPLOYEE IS KILLED IN FALL THROUGH SKYLIGHT                18\n",
       "EMPLOYEE FALLS FROM ROOF AND INCURS MULTIPLE INJURIES      17\n",
       "EMPLOYEE IS STRUCK AND KILLED BY FALLING TREE              17\n",
       "EMPLOYEE IS KILLED IN FALL FROM SCAFFOLD                   16\n",
       "Name: event_desc, dtype: int64"
      ]
     },
     "execution_count": 72,
     "metadata": {},
     "output_type": "execute_result"
    }
   ],
   "source": [
    "df_filtered[\"event_desc\"].value_counts().head(20)"
   ]
  },
  {
   "cell_type": "markdown",
   "id": "4320bc22",
   "metadata": {},
   "source": [
    "#### Event per year"
   ]
  },
  {
   "cell_type": "code",
   "execution_count": 46,
   "id": "97aef79d",
   "metadata": {},
   "outputs": [
    {
     "data": {
      "text/plain": [
       "event_year\n",
       "2017    8835\n",
       "2018    9086\n",
       "2019    4967\n",
       "2020    3143\n",
       "2021    1465\n",
       "2022       1\n",
       "Name: event_desc, dtype: int64"
      ]
     },
     "execution_count": 46,
     "metadata": {},
     "output_type": "execute_result"
    }
   ],
   "source": [
    "# df_filtered[\"event_desc\"].value_counts().head(10)\n",
    "df_filtered.groupby(\"event_year\")[\"event_desc\"].count()"
   ]
  },
  {
   "cell_type": "code",
   "execution_count": 47,
   "id": "ac291faa",
   "metadata": {},
   "outputs": [
    {
     "data": {
      "text/plain": [
       "event_year\n",
       "2017    8835\n",
       "2018    9086\n",
       "2019    4967\n",
       "2020    3143\n",
       "2021    1465\n",
       "2022       1\n",
       "Name: summary_nr, dtype: int64"
      ]
     },
     "execution_count": 47,
     "metadata": {},
     "output_type": "execute_result"
    }
   ],
   "source": [
    "## fact checking using summary_nr vs event_desc \n",
    "df_filtered.groupby(\"event_year\")[\"summary_nr\"].count()"
   ]
  },
  {
   "cell_type": "markdown",
   "id": "588e4f90",
   "metadata": {},
   "source": [
    "#### Change over time"
   ]
  },
  {
   "cell_type": "code",
   "execution_count": 48,
   "id": "c5ea7d5e",
   "metadata": {},
   "outputs": [
    {
     "data": {
      "text/plain": [
       "event_year\n",
       "2017          NaN\n",
       "2018     2.840973\n",
       "2019   -45.333480\n",
       "2020   -36.722368\n",
       "2021   -53.388482\n",
       "2022   -99.931741\n",
       "Name: summary_nr, dtype: float64"
      ]
     },
     "execution_count": 48,
     "metadata": {},
     "output_type": "execute_result"
    }
   ],
   "source": [
    "df_filtered.groupby(\"event_year\")[\"summary_nr\"].count().pct_change().mul(100) "
   ]
  },
  {
   "cell_type": "code",
   "execution_count": 99,
   "id": "343885e2",
   "metadata": {},
   "outputs": [
    {
     "data": {
      "text/html": [
       "<div>\n",
       "<style scoped>\n",
       "    .dataframe tbody tr th:only-of-type {\n",
       "        vertical-align: middle;\n",
       "    }\n",
       "\n",
       "    .dataframe tbody tr th {\n",
       "        vertical-align: top;\n",
       "    }\n",
       "\n",
       "    .dataframe thead th {\n",
       "        text-align: right;\n",
       "    }\n",
       "</style>\n",
       "<table border=\"1\" class=\"dataframe\">\n",
       "  <thead>\n",
       "    <tr style=\"text-align: right;\">\n",
       "      <th></th>\n",
       "      <th>summary_nr</th>\n",
       "      <th>rel_insp_nr</th>\n",
       "      <th>age</th>\n",
       "      <th>sex</th>\n",
       "      <th>nature_of_inj</th>\n",
       "      <th>part_of_body</th>\n",
       "      <th>src_of_injury</th>\n",
       "      <th>event_type</th>\n",
       "      <th>evn_factor</th>\n",
       "      <th>hum_factor</th>\n",
       "      <th>...</th>\n",
       "      <th>degree_of_inj</th>\n",
       "      <th>task_assigned</th>\n",
       "      <th>hazsub</th>\n",
       "      <th>const_op</th>\n",
       "      <th>const_op_cause</th>\n",
       "      <th>fat_cause</th>\n",
       "      <th>fall_distance</th>\n",
       "      <th>fall_ht</th>\n",
       "      <th>injury_line_nr</th>\n",
       "      <th>load_dt</th>\n",
       "    </tr>\n",
       "  </thead>\n",
       "  <tbody>\n",
       "    <tr>\n",
       "      <th>0</th>\n",
       "      <td>18</td>\n",
       "      <td>10006732</td>\n",
       "      <td>0</td>\n",
       "      <td>NaN</td>\n",
       "      <td>10.0</td>\n",
       "      <td>12.0</td>\n",
       "      <td>15.0</td>\n",
       "      <td>13.0</td>\n",
       "      <td>18.0</td>\n",
       "      <td>1.0</td>\n",
       "      <td>...</td>\n",
       "      <td>1.0</td>\n",
       "      <td>1.0</td>\n",
       "      <td>NaN</td>\n",
       "      <td>0.0</td>\n",
       "      <td>0.0</td>\n",
       "      <td>0.0</td>\n",
       "      <td>NaN</td>\n",
       "      <td>NaN</td>\n",
       "      <td>1</td>\n",
       "      <td>2017-03-20 01:00:11 EDT</td>\n",
       "    </tr>\n",
       "  </tbody>\n",
       "</table>\n",
       "<p>1 rows × 21 columns</p>\n",
       "</div>"
      ],
      "text/plain": [
       "   summary_nr  rel_insp_nr  age  sex  nature_of_inj  part_of_body  \\\n",
       "0          18     10006732    0  NaN           10.0          12.0   \n",
       "\n",
       "   src_of_injury  event_type  evn_factor  hum_factor  ...  degree_of_inj  \\\n",
       "0           15.0        13.0        18.0         1.0  ...            1.0   \n",
       "\n",
       "   task_assigned  hazsub const_op  const_op_cause  fat_cause  fall_distance  \\\n",
       "0            1.0     NaN      0.0             0.0        0.0            NaN   \n",
       "\n",
       "   fall_ht  injury_line_nr                  load_dt  \n",
       "0      NaN               1  2017-03-20 01:00:11 EDT  \n",
       "\n",
       "[1 rows x 21 columns]"
      ]
     },
     "execution_count": 99,
     "metadata": {},
     "output_type": "execute_result"
    }
   ],
   "source": [
    "df2 = pd.read_csv(\"osha_accident_injury.csv\")\n",
    "df2.head(1)"
   ]
  },
  {
   "cell_type": "code",
   "execution_count": 100,
   "id": "22749207",
   "metadata": {},
   "outputs": [
    {
     "data": {
      "text/plain": [
       "(207618, 21)"
      ]
     },
     "execution_count": 100,
     "metadata": {},
     "output_type": "execute_result"
    }
   ],
   "source": [
    "df2.shape"
   ]
  },
  {
   "cell_type": "code",
   "execution_count": 101,
   "id": "5b8b8bfd",
   "metadata": {},
   "outputs": [
    {
     "data": {
      "text/plain": [
       "35397"
      ]
     },
     "execution_count": 101,
     "metadata": {},
     "output_type": "execute_result"
    }
   ],
   "source": [
    "df2[\"nature_of_inj\"].isna().sum()"
   ]
  },
  {
   "cell_type": "code",
   "execution_count": 102,
   "id": "a5a357f1",
   "metadata": {},
   "outputs": [
    {
     "data": {
      "text/plain": [
       "1759457.0"
      ]
     },
     "execution_count": 102,
     "metadata": {},
     "output_type": "execute_result"
    }
   ],
   "source": [
    "df2[\"nature_of_inj\"].sum()"
   ]
  },
  {
   "cell_type": "code",
   "execution_count": 105,
   "id": "28943870",
   "metadata": {},
   "outputs": [
    {
     "data": {
      "text/plain": [
       "21.0    36600\n",
       "12.0    36220\n",
       "1.0     15662\n",
       "5.0     12546\n",
       "2.0     12016\n",
       "10.0    11475\n",
       "3.0     10862\n",
       "6.0      9798\n",
       "7.0      7371\n",
       "0.0      5436\n",
       "17.0     4379\n",
       "4.0      3137\n",
       "18.0     1864\n",
       "20.0     1795\n",
       "9.0       891\n",
       "15.0      877\n",
       "11.0      419\n",
       "22.0      233\n",
       "14.0      188\n",
       "8.0       143\n",
       "Name: nature_of_inj, dtype: int64"
      ]
     },
     "execution_count": 105,
     "metadata": {},
     "output_type": "execute_result"
    }
   ],
   "source": [
    "df2[\"nature_of_inj\"].value_counts().head(20)"
   ]
  },
  {
   "cell_type": "code",
   "execution_count": null,
   "id": "1ad3c90a",
   "metadata": {},
   "outputs": [],
   "source": [
    "df2[\"nature_of_inj\"].value_counts().head(20)"
   ]
  }
 ],
 "metadata": {
  "kernelspec": {
   "display_name": "Python 3 (ipykernel)",
   "language": "python",
   "name": "python3"
  },
  "language_info": {
   "codemirror_mode": {
    "name": "ipython",
    "version": 3
   },
   "file_extension": ".py",
   "mimetype": "text/x-python",
   "name": "python",
   "nbconvert_exporter": "python",
   "pygments_lexer": "ipython3",
   "version": "3.8.10"
  }
 },
 "nbformat": 4,
 "nbformat_minor": 5
}
